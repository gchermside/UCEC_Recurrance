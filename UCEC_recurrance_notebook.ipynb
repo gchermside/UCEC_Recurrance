{
 "cells": [
  {
   "cell_type": "markdown",
   "metadata": {},
   "source": [
    "UCEC Reccurance Notebook"
   ]
  },
  {
   "cell_type": "markdown",
   "metadata": {},
   "source": [
    "Importing data from ucec_tcga_pan_can_atlas_2018"
   ]
  },
  {
   "cell_type": "code",
   "execution_count": 179,
   "metadata": {},
   "outputs": [],
   "source": [
    "import pandas as pd\n",
    "import numpy as np\n",
    "from sklearn.preprocessing import StandardScaler\n",
    "from sklearn.preprocessing import OneHotEncoder, LabelEncoder\n",
    "from sklearn.model_selection import train_test_split\n",
    "from sklearn.model_selection import GridSearchCV, StratifiedKFold\n",
    "from sklearn.ensemble import RandomForestClassifier  # one model I'm just going to try first\n",
    "from sklearn.metrics import confusion_matrix\n",
    "from sklearn.metrics import roc_auc_score\n",
    "\n"
   ]
  },
  {
   "cell_type": "code",
   "execution_count": 180,
   "metadata": {},
   "outputs": [
    {
     "name": "stdout",
     "output_type": "stream",
     "text": [
      "Index(['Hugo_Symbol', 'Entrez_Gene_Id', 'TCGA-2E-A9G8-01', 'TCGA-4E-A92E-01',\n",
      "       'TCGA-5B-A90C-01', 'TCGA-5S-A9Q8-01', 'TCGA-A5-A1OH-01',\n",
      "       'TCGA-A5-A2K2-01', 'TCGA-A5-A2K3-01', 'TCGA-A5-A2K4-01',\n",
      "       ...\n",
      "       'TCGA-FI-A2D2-01', 'TCGA-FI-A2D4-01', 'TCGA-FI-A2D5-01',\n",
      "       'TCGA-FI-A2D6-01', 'TCGA-FI-A2EU-01', 'TCGA-FI-A2EW-01',\n",
      "       'TCGA-FI-A2EX-01', 'TCGA-FI-A2F4-01', 'TCGA-FI-A2F8-01',\n",
      "       'TCGA-FI-A2F9-01'],\n",
      "      dtype='object', length=529)\n",
      "RangeIndex(start=0, stop=20531, step=1)\n"
     ]
    }
   ],
   "source": [
    "mrna_df = pd.read_csv(\"ucec_tcga_pan_can_atlas_2018/data_mrna_seq_v2_rsem_zscores_ref_all_samples.txt\", sep=\"\\t\", comment=\"#\", low_memory=False)\n",
    "print(mrna_df.columns)\n",
    "# I appear to have 527 patients in the mRNA\n",
    "mrna_df_transposed = mrna_df.transpose()\n",
    "print(mrna_df_transposed.columns)"
   ]
  },
  {
   "cell_type": "markdown",
   "metadata": {},
   "source": [
    "Removing unecessary columns from clinical data."
   ]
  },
  {
   "cell_type": "code",
   "execution_count": 181,
   "metadata": {},
   "outputs": [
    {
     "name": "stdout",
     "output_type": "stream",
     "text": [
      "   NEW_TUMOR_EVENT_AFTER_INITIAL_TREATMENT             DFS_STATUS  \\\n",
      "0                                       No          0:DiseaseFree   \n",
      "1                                       No          0:DiseaseFree   \n",
      "2                                       No  1:Recurred/Progressed   \n",
      "3                                       No                    NaN   \n",
      "4                                       No                    NaN   \n",
      "5                                      Yes          0:DiseaseFree   \n",
      "6                                      Yes  1:Recurred/Progressed   \n",
      "7                                      Yes                    NaN   \n",
      "8                                      NaN          0:DiseaseFree   \n",
      "9                                      NaN  1:Recurred/Progressed   \n",
      "10                                     NaN                    NaN   \n",
      "11                                     NaN                    NaN   \n",
      "\n",
      "       PFS_STATUS  Count  \n",
      "0      0:CENSORED    327  \n",
      "1   1:PROGRESSION      1  \n",
      "2   1:PROGRESSION     12  \n",
      "3      0:CENSORED     37  \n",
      "4   1:PROGRESSION     12  \n",
      "5   1:PROGRESSION      7  \n",
      "6   1:PROGRESSION     38  \n",
      "7   1:PROGRESSION     34  \n",
      "8      0:CENSORED     24  \n",
      "9   1:PROGRESSION      5  \n",
      "10     0:CENSORED     22  \n",
      "11  1:PROGRESSION     10  \n"
     ]
    }
   ],
   "source": [
    "MAX_NULL_VALS = 0.3\n",
    "\n",
    "clinical_df = pd.read_csv(\"ucec_tcga_pan_can_atlas_2018\\data_clinical_patient.txt\", sep=\"\\t\", comment=\"#\", low_memory=False)\n",
    "\n",
    "def assign_label(row):\n",
    "    '''given a row assigns 1 for recurrance and 0 for no recurrance. \n",
    "    Currently uses NEW_TUMOR_EVENT_AFTER_INITIAL_TREATMENT to identify recurrance.\n",
    "    If NEW_TUMOR_EVENT_AFTER_INITIAL_TREATMENT is NaN, uses DSF_STATUS'''\n",
    "    if row['NEW_TUMOR_EVENT_AFTER_INITIAL_TREATMENT'] == 'Yes':\n",
    "        return 1\n",
    "    elif row['NEW_TUMOR_EVENT_AFTER_INITIAL_TREATMENT'] == 'No':\n",
    "        return 0\n",
    "    elif pd.isna(row['NEW_TUMOR_EVENT_AFTER_INITIAL_TREATMENT']):\n",
    "        if row['DFS_STATUS'] == '1:Recurred/Progressed':\n",
    "            return 1\n",
    "        elif row['DFS_STATUS'] == '0:DiseaseFree':\n",
    "            return 0\n",
    "        else:\n",
    "            raise ValueError(f\"Error: Both columns are NaN at index {row.name}\")\n",
    "\n",
    "\n",
    "for col in clinical_df.columns:\n",
    "    # print(f\"number of unique values in {col}: {len(clinical_df[col].unique())}\")  # Show only first 5 unique values\n",
    "    # print(\"-\" * 50)\n",
    "    # if there is only one value for every patient, remove the column\n",
    "    if len(clinical_df[col].dropna().unique()) <= 1:\n",
    "        clinical_df.drop([col], axis=1, inplace=True)\n",
    "\n",
    "# remove the column is over MAX_NULL_VALS percent null values\n",
    "clinical_df.dropna(axis=1, thresh=len(clinical_df) * (1 - MAX_NULL_VALS))\n",
    "\n",
    "# remove non-informational columns\n",
    "clinical_df = clinical_df.drop(columns=['PATIENT_ID', 'OTHER_PATIENT_ID'])\n",
    "\n",
    "pair_counts = clinical_df.groupby([\"NEW_TUMOR_EVENT_AFTER_INITIAL_TREATMENT\", 'DFS_STATUS', 'PFS_STATUS'], dropna=False).size().reset_index(name='Count')\n",
    "\n",
    "# Print the pairings and the count\n",
    "print(pair_counts)\n",
    "\n",
    "# I am going to remove the 32 rows where we have no recurrance label (neither NEW_TUMOR_EVENT_AFTER_INITIAL_TREATMENT nor DFS_STATUS are known)\n",
    "# PFS_STATUS\n",
    "clinical_df = clinical_df.dropna(subset=['DFS_STATUS', 'NEW_TUMOR_EVENT_AFTER_INITIAL_TREATMENT'], how='all')\n",
    "\n",
    "# # numpy array for the Labels for recurrance\n",
    "labels = np.array(clinical_df.apply(assign_label, axis=1))"
   ]
  },
  {
   "cell_type": "markdown",
   "metadata": {},
   "source": [
    "Transforms data by changing catagorical data into numerical data and filling in missing data points with medians or modes."
   ]
  },
  {
   "cell_type": "code",
   "execution_count": 182,
   "metadata": {},
   "outputs": [
    {
     "name": "stdout",
     "output_type": "stream",
     "text": [
      "GENETIC_ANCESTRY_LABEL_ADMIX\n",
      "Index(['AGE', 'AJCC_STAGING_EDITION', 'DAYS_TO_BIRTH', 'WEIGHT',\n",
      "       'ETHNICITY_Not Hispanic Or Latino', 'ICD_10_C54.1', 'ICD_10_C54.3',\n",
      "       'ICD_10_C54.9', 'PRIOR_DX_Yes', 'RACE_Asian',\n",
      "       'RACE_Black or African American',\n",
      "       'RACE_Native Hawaiian or Other Pacific Islander', 'RACE_White',\n",
      "       'RADIATION_THERAPY_Yes', 'IN_PANCANPATHWAYS_FREEZE_Yes',\n",
      "       'GENETIC_ANCESTRY_LABEL_ADMIX', 'GENETIC_ANCESTRY_LABEL_AFR',\n",
      "       'GENETIC_ANCESTRY_LABEL_AFR_ADMIX', 'GENETIC_ANCESTRY_LABEL_AMR',\n",
      "       'GENETIC_ANCESTRY_LABEL_EAS', 'GENETIC_ANCESTRY_LABEL_EUR',\n",
      "       'GENETIC_ANCESTRY_LABEL_EUR_ADMIX', 'GENETIC_ANCESTRY_LABEL_SAS'],\n",
      "      dtype='object')\n"
     ]
    }
   ],
   "source": [
    "categorical_columns = [\"ETHNICITY\",\n",
    "                        \"ICD_10\", \n",
    "                        \"PRIOR_DX\", \n",
    "                        \"RACE\",\n",
    "                        \"RADIATION_THERAPY\", \n",
    "                        \"IN_PANCANPATHWAYS_FREEZE\", \n",
    "                        \"GENETIC_ANCESTRY_LABEL\"] #FIXME: do further research on what ICD_10 and ICD_O_3_SITE are\n",
    "\n",
    "#FIXME: I will need to go through the numerical categories and see if any need to be removed (because they represent data from after initial treatment)\n",
    "# Fill numerical NaNs with median\n",
    "numerical_df = clinical_df.select_dtypes(include=['number'])\n",
    "numerical_df = numerical_df.drop(columns=['OS_MONTHS', 'DSS_MONTHS', 'DFS_MONTHS', 'PFS_MONTHS'])\n",
    "numerical_df = numerical_df.fillna(numerical_df.median())\n",
    "\n",
    "# fill catagorical columns with mode\n",
    "categorical_df = clinical_df[categorical_columns]\n",
    "categorical_df = categorical_df.fillna(categorical_df.mode())\n",
    "\n",
    "\n",
    "# One-Hot Encode categorical columns (drop first to avoid redundancy)\n",
    "categorical_df = pd.get_dummies(categorical_df, drop_first=True, dtype=float)\n",
    "# comment, right now I'm making every column be numerical, may change some to boolean if that would also work\n",
    "\n",
    "clinical_X = pd.concat([numerical_df, categorical_df], axis=1)\n",
    "print(clinical_X.columns[15])\n",
    "print(clinical_X.columns)\n",
    "X = clinical_X.to_numpy()\n"
   ]
  },
  {
   "cell_type": "code",
   "execution_count": null,
   "metadata": {},
   "outputs": [
    {
     "name": "stdout",
     "output_type": "stream",
     "text": [
      "Data shape:  (497, 23)\n",
      "Labels shape:  (497,)\n",
      "Best Parameters: {'max_depth': None, 'min_samples_split': 10, 'n_estimators': 200}\n",
      "Best Score: 0.5131968641114982\n",
      "True Positives (TP): 0\n",
      "False Positives (FP): 0\n",
      "True Negatives (TN): 205\n",
      "False Negatives (FN): 44\n",
      "AUC-ROC Score: 0.5055\n"
     ]
    }
   ],
   "source": [
    "# we should have an X and y now, yay!. Lets do some machine learning \n",
    "print(\"Data shape: \", X.shape)\n",
    "print(\"Labels shape: \", labels.shape)\n",
    "\n",
    "\n",
    "X_train, X_test, y_train, y_test = train_test_split(X, labels, test_size=0.2)\n",
    "X_train = np.array(X_train)\n",
    "X_test = np.array(X_test)\n",
    "y_train = np.array(y_train)\n",
    "y_test = np.array(y_test)\n",
    "\n",
    "model = RandomForestClassifier(random_state=100)\n",
    "# will add a k-fold cross validation, just have random numbers for now\n",
    "param_grid = {\n",
    "    'n_estimators': [50, 100, 200],\n",
    "    'max_depth': [None, 10, 20],\n",
    "    'min_samples_split': [2, 5, 10]\n",
    "}\n",
    "\n",
    "cv = StratifiedKFold(n_splits=5, shuffle=True, random_state=100)  # Ensures balanced class splits\n",
    "\n",
    "grid_search = GridSearchCV(\n",
    "    estimator=model,\n",
    "    param_grid=param_grid,\n",
    "    cv=cv,\n",
    "    scoring='roc_auc',  # Change to 'f1', 'roc_auc', etc., if needed\n",
    "    n_jobs=-1  # Use all CPU cores\n",
    ")\n",
    "\n",
    "grid_search.fit(X_train, y_train)  # Train with cross-validation\n",
    "\n",
    "print(\"Best Parameters:\", grid_search.best_params_)\n",
    "print(\"Best Score:\", grid_search.best_score_)\n",
    "best_model = grid_search.best_estimator_  # Retrieve the best model\n",
    "\n",
    "y_test_pred = best_model.predict(X_test)\n",
    "\n",
    "cm_test = confusion_matrix(y_test, y_test_pred)\n",
    "tn, fp, fn, tp = cm_test.ravel()\n",
    "print(f\"True Positives (TP): {tp}\")\n",
    "print(f\"False Positives (FP): {fp}\")\n",
    "print(f\"True Negatives (TN): {tn}\")\n",
    "print(f\"False Negatives (FN): {fn}\")\n",
    "\n",
    "# Obtain predicted probabilities for the positive class\n",
    "y_test_proba = best_model.predict_proba(X_test)[:, 1] # FIXME: I don't understand what this is doing\n",
    "\n",
    "# Compute the AUC-ROC score\n",
    "auc_roc = roc_auc_score(y_test, y_test_proba)\n",
    "\n",
    "# Print the AUC-ROC score\n",
    "print(f\"AUC-ROC Score: {auc_roc:.4f}\")\n",
    "\n",
    "\n"
   ]
  }
 ],
 "metadata": {
  "kernelspec": {
   "display_name": "Python 3",
   "language": "python",
   "name": "python3"
  },
  "language_info": {
   "codemirror_mode": {
    "name": "ipython",
    "version": 3
   },
   "file_extension": ".py",
   "mimetype": "text/x-python",
   "name": "python",
   "nbconvert_exporter": "python",
   "pygments_lexer": "ipython3",
   "version": "3.10.6"
  }
 },
 "nbformat": 4,
 "nbformat_minor": 2
}
