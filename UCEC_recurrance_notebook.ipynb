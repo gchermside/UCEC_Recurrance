{
 "cells": [
  {
   "cell_type": "markdown",
   "metadata": {},
   "source": [
    "UCEC Reccurance Notebook"
   ]
  },
  {
   "cell_type": "markdown",
   "metadata": {},
   "source": [
    "Importing data from ucec_tcga_pan_can_atlas_2018"
   ]
  },
  {
   "cell_type": "code",
   "execution_count": 69,
   "metadata": {},
   "outputs": [],
   "source": [
    "import pandas as pd\n",
    "import numpy as np\n",
    "from sklearn.preprocessing import StandardScaler\n",
    "from sklearn.preprocessing import OneHotEncoder, LabelEncoder"
   ]
  },
  {
   "cell_type": "markdown",
   "metadata": {},
   "source": [
    "Removing unecessary columns from clinical data."
   ]
  },
  {
   "cell_type": "code",
   "execution_count": 74,
   "metadata": {},
   "outputs": [
    {
     "name": "stdout",
     "output_type": "stream",
     "text": [
      "  NEW_TUMOR_EVENT_AFTER_INITIAL_TREATMENT             DFS_STATUS  Count\n",
      "0                                      No          0:DiseaseFree    328\n",
      "1                                      No  1:Recurred/Progressed     12\n",
      "2                                      No                    NaN     49\n",
      "3                                     Yes          0:DiseaseFree      7\n",
      "4                                     Yes  1:Recurred/Progressed     38\n",
      "5                                     Yes                    NaN     34\n",
      "6                                     NaN          0:DiseaseFree     24\n",
      "7                                     NaN  1:Recurred/Progressed      5\n",
      "8                                     NaN                    NaN     32\n",
      "84\n"
     ]
    }
   ],
   "source": [
    "MAX_NULL_VALS = 0.3\n",
    "\n",
    "df = pd.read_csv(\"ucec_tcga_pan_can_atlas_2018\\data_clinical_patient.txt\", sep=\"\\t\", comment=\"#\", low_memory=False)\n",
    "\n",
    "def assign_label(row):\n",
    "    '''given a row assigns 1 for recurrance and 0 for no recurrance. \n",
    "    Currently uses NEW_TUMOR_EVENT_AFTER_INITIAL_TREATMENT to identify recurrance.\n",
    "    If NEW_TUMOR_EVENT_AFTER_INITIAL_TREATMENT is NaN, uses DSF_STATUS'''\n",
    "    if row['NEW_TUMOR_EVENT_AFTER_INITIAL_TREATMENT'] == 'Yes':\n",
    "        return 1\n",
    "    elif row['NEW_TUMOR_EVENT_AFTER_INITIAL_TREATMENT'] == 'No':\n",
    "        return 0\n",
    "    elif pd.isna(row['NEW_TUMOR_EVENT_AFTER_INITIAL_TREATMENT']):\n",
    "        if row['DFS_STATUS'] == '1:Recurred/Progressed':\n",
    "            return 1\n",
    "        elif row['DFS_STATUS'] == '0:DiseaseFree':\n",
    "            return 0\n",
    "        else:\n",
    "            raise ValueError(f\"Error: Both columns are NaN at index {row.name}\")\n",
    "\n",
    "\n",
    "for col in df.columns:\n",
    "    # print(f\"number of unique values in {col}: {len(df[col].unique())}\")  # Show only first 5 unique values\n",
    "    # print(\"-\" * 50)\n",
    "    # if there is only one value for every patient, remove the column\n",
    "    if len(df[col].dropna().unique()) <= 1:\n",
    "        df.drop([col], axis=1, inplace=True)\n",
    "\n",
    "# remove the column is over MAX_NULL_VALS percent null values\n",
    "df.dropna(axis=1, thresh=len(df) * (1 - MAX_NULL_VALS))\n",
    "\n",
    "# remove non-informational columns\n",
    "df = df.drop(columns=['PATIENT_ID', 'OTHER_PATIENT_ID'])\n",
    "\n",
    "pair_counts = df.groupby(['NEW_TUMOR_EVENT_AFTER_INITIAL_TREATMENT', 'DFS_STATUS'], dropna=False).size().reset_index(name='Count')\n",
    "\n",
    "# Print the pairings and the count\n",
    "print(pair_counts)\n",
    "\n",
    "# I am going to remove the 32 rows where we have no recurrance label (neither NEW_TUMOR_EVENT_AFTER_INITIAL_TREATMENT nor DFS_STATUS are known)\n",
    "df = df.dropna(subset=['DFS_STATUS', 'NEW_TUMOR_EVENT_AFTER_INITIAL_TREATMENT'], how='all')\n",
    "\n",
    "# numpy array for the Labels for recurrance\n",
    "labels = np.array(df.apply(assign_label, axis=1))"
   ]
  },
  {
   "cell_type": "markdown",
   "metadata": {},
   "source": [
    "Transforms data by changing catagorical data into numerical data and filling in missing data points with medians or modes."
   ]
  },
  {
   "cell_type": "code",
   "execution_count": null,
   "metadata": {},
   "outputs": [
    {
     "name": "stdout",
     "output_type": "stream",
     "text": [
      "0      Yes\n",
      "1       No\n",
      "2      Yes\n",
      "3       No\n",
      "4      NaN\n",
      "      ... \n",
      "523     No\n",
      "524     No\n",
      "525     No\n",
      "526     No\n",
      "528    NaN\n",
      "Name: NEW_TUMOR_EVENT_AFTER_INITIAL_TREATMENT, Length: 497, dtype: object\n"
     ]
    }
   ],
   "source": [
    "categorical_columns = [\"ETHNICITY\",\n",
    "                        \"ICD_10\", \n",
    "                        \"PRIOR_DX\", \n",
    "                        \"RACE\",\n",
    "                        \"RADIATION_THERAPY\", \n",
    "                        \"IN_PANCANPATHWAYS_FREEZE\", \n",
    "                        \"PFS_STATUS\", \n",
    "                        \"GENETIC_ANCESTRY_LABEL\"] # do further research on what ICD_10 and ICD_O_3_SITE are\n",
    "\n",
    "# Fill numerical NaNs with median\n",
    "numerical_df = df.select_dtypes(include=['number'])\n",
    "numerical_df = numerical_df.fillna(numerical_df.median())\n",
    "\n",
    "# fill catagorical columns with mode\n",
    "categorical_df = df[categorical_columns]\n",
    "categorical_df = categorical_df.fillna(categorical_df.mode())\n",
    "\n",
    "\n",
    "# One-Hot Encode categorical columns (drop first to avoid redundancy)\n",
    "categorical_df = pd.get_dummies(categorical_df, drop_first=True, dtype=float)\n",
    "# comment, right now I'm making every column be numerical, may change some to boolean if that would also work\n",
    "\n",
    "clinical_X = pd.concat([numerical_df, categorical_df], axis=1)\n",
    "\n",
    "\n"
   ]
  }
 ],
 "metadata": {
  "kernelspec": {
   "display_name": "Python 3",
   "language": "python",
   "name": "python3"
  },
  "language_info": {
   "codemirror_mode": {
    "name": "ipython",
    "version": 3
   },
   "file_extension": ".py",
   "mimetype": "text/x-python",
   "name": "python",
   "nbconvert_exporter": "python",
   "pygments_lexer": "ipython3",
   "version": "3.10.6"
  }
 },
 "nbformat": 4,
 "nbformat_minor": 2
}
