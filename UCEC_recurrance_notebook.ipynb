{
 "cells": [
  {
   "cell_type": "markdown",
   "metadata": {},
   "source": [
    "UCEC Reccurance Notebook"
   ]
  },
  {
   "cell_type": "markdown",
   "metadata": {},
   "source": [
    "Importing data from ucec_tcga_pan_can_atlas_2018"
   ]
  },
  {
   "cell_type": "code",
   "execution_count": 62,
   "metadata": {},
   "outputs": [],
   "source": [
    "import pandas as pd\n",
    "import numpy as np\n",
    "\n",
    "from sklearn.preprocessing import StandardScaler\n",
    "from sklearn.preprocessing import OneHotEncoder, LabelEncoder\n",
    "from sklearn.preprocessing import StandardScaler\n",
    "\n",
    "from sklearn.model_selection import train_test_split\n",
    "from sklearn.model_selection import GridSearchCV, StratifiedKFold\n",
    "\n",
    "from sklearn.ensemble import RandomForestClassifier\n",
    "from sklearn.linear_model import LogisticRegression\n",
    "\n",
    "from sklearn.metrics import confusion_matrix\n",
    "from sklearn.metrics import roc_curve, roc_auc_score\n",
    "from sklearn.feature_selection import SelectKBest, f_classif\n",
    "from sklearn.pipeline import Pipeline\n",
    "\n",
    "from collections import Counter\n",
    "import matplotlib.pyplot as plt\n"
   ]
  },
  {
   "cell_type": "code",
   "execution_count": 63,
   "metadata": {},
   "outputs": [],
   "source": [
    "mrna_df = pd.read_csv(\"ucec_tcga_pan_can_atlas_2018/data_mrna_seq_v2_rsem_zscores_ref_all_samples.txt\", sep=\"\\t\", comment=\"#\")\n",
    "# I appear to have 527 patients in the mRNA and 529 patients in the clinical data\n",
    "\n",
    "clinical_df = pd.read_csv(\"ucec_tcga_pan_can_atlas_2018\\data_clinical_patient.txt\", sep=\"\\t\", comment=\"#\", low_memory=False)\n",
    "clinical_df = clinical_df.set_index('PATIENT_ID')\n",
    "\n",
    "# The first 2 columns of the mRNA data are labels. 13 of the genes do not have Hugo_symbols, so I am putting placeholder stings as labels for these genes\n",
    "missing_symbols = mrna_df['Hugo_Symbol'].isnull()\n",
    "mrna_df.loc[missing_symbols, 'Hugo_Symbol'] = [\n",
    "    f'no_symbol_{i+1}' for i in range(missing_symbols.sum())\n",
    "]\n",
    "\n",
    "# Get value counts\n",
    "counts = mrna_df['Hugo_Symbol'].value_counts()\n",
    "\n",
    "# Generate unique labels for duplicates\n",
    "def label_duplicates(value, index):\n",
    "    if counts[value] == 1:\n",
    "        return value  # Keep unique values unchanged\n",
    "    occurrence = mrna_df.groupby('Hugo_Symbol').cumcount() + 1  # Count occurrences per group\n",
    "    return f\"{value}-{occurrence[index]}-of-{counts[value]}\"\n",
    "\n",
    "# Apply the labeling function\n",
    "mrna_df['Hugo_Symbol'] = [label_duplicates(value, idx) for idx, value in mrna_df['Hugo_Symbol'].items()]\n",
    "\n",
    "mrna_df = mrna_df.set_index('Hugo_Symbol')\n",
    "mrna_df = mrna_df.drop(columns=\"Entrez_Gene_Id\") # removing the label column before I transpose the df\n",
    "mrna_df_transposed= mrna_df.transpose()\n",
    "mrna_df_transposed.index = [id[:-3] for id in mrna_df_transposed.index] # removes extranious -01 so that the patient ids match the clinical data\n",
    "\n",
    "df = clinical_df.join(mrna_df_transposed, how='inner') # this is the data frame for clinical and genetic data. It has 527 patients (rows) and 20568 features (columns)."
   ]
  },
  {
   "cell_type": "markdown",
   "metadata": {},
   "source": [
    "The following genes appear in the data more than once but have different data: \n",
    "['PALM2AKAP2', 'ELMOD1', 'FGF13', 'QSOX1', 'SNAP47', 'NKAIN3', 'TMEM8B']\n",
    "Right now, I'm leaving every version of the gene in, but giving placeholder unique names like: PALM2AKAP2-1-of-2 and PALM2AKAP2-2-of-2"
   ]
  },
  {
   "cell_type": "markdown",
   "metadata": {},
   "source": [
    "Removing unecessary columns from clinical data."
   ]
  },
  {
   "cell_type": "code",
   "execution_count": 64,
   "metadata": {},
   "outputs": [
    {
     "name": "stdout",
     "output_type": "stream",
     "text": [
      "  NEW_TUMOR_EVENT_AFTER_INITIAL_TREATMENT             DFS_STATUS  Count\n",
      "0                                      No          0:DiseaseFree    326\n",
      "1                                      No  1:Recurred/Progressed     12\n",
      "2                                      No                    NaN     49\n",
      "3                                     Yes          0:DiseaseFree      7\n",
      "4                                     Yes  1:Recurred/Progressed     38\n",
      "5                                     Yes                    NaN     34\n",
      "6                                     NaN          0:DiseaseFree     24\n",
      "7                                     NaN  1:Recurred/Progressed      5\n",
      "8                                     NaN                    NaN     32\n"
     ]
    }
   ],
   "source": [
    "MAX_NULL_VALS = 0.3\n",
    "\n",
    "def assign_label(row):\n",
    "    '''given a row assigns 1 for recurrance and 0 for no recurrance. \n",
    "    Currently uses NEW_TUMOR_EVENT_AFTER_INITIAL_TREATMENT to identify recurrance.\n",
    "    If NEW_TUMOR_EVENT_AFTER_INITIAL_TREATMENT is NaN, uses DSF_STATUS'''\n",
    "    if row['NEW_TUMOR_EVENT_AFTER_INITIAL_TREATMENT'] == 'Yes':\n",
    "        return 1\n",
    "    elif row['NEW_TUMOR_EVENT_AFTER_INITIAL_TREATMENT'] == 'No':\n",
    "        return 0\n",
    "    elif pd.isna(row['NEW_TUMOR_EVENT_AFTER_INITIAL_TREATMENT']):\n",
    "        if row['DFS_STATUS'] == '1:Recurred/Progressed':\n",
    "            return 1\n",
    "        elif row['DFS_STATUS'] == '0:DiseaseFree':\n",
    "            return 0\n",
    "        else:\n",
    "            raise ValueError(f\"Error: Both columns are NaN at index {row.name}\")\n",
    "\n",
    "for col in df.columns:\n",
    "    unique_values = df[col].nunique(dropna=True)\n",
    "    if unique_values <= 1:\n",
    "        # print(f\"Removing column: {col}\")\n",
    "        df.drop(columns=[col], inplace=True)\n",
    "\n",
    "# remove the column is over MAX_NULL_VALS percent null values\n",
    "df.dropna(axis=1, thresh=len(df) * (1 - MAX_NULL_VALS))\n",
    "\n",
    "# remove non-informational columns\n",
    "df = df.drop(columns=['OTHER_PATIENT_ID'])\n",
    "\n",
    "pair_counts = df.groupby([\"NEW_TUMOR_EVENT_AFTER_INITIAL_TREATMENT\", 'DFS_STATUS'], dropna=False).size().reset_index(name='Count')\n",
    "\n",
    "# Print the pairings and the count\n",
    "print(pair_counts)\n",
    "\n",
    "# I am going to remove the 32 rows where we have no recurrance label (neither NEW_TUMOR_EVENT_AFTER_INITIAL_TREATMENT nor DFS_STATUS are known)\n",
    "# PFS_STATUS\n",
    "df = df.dropna(subset=['DFS_STATUS', 'NEW_TUMOR_EVENT_AFTER_INITIAL_TREATMENT'], how='all')\n",
    "\n",
    "# # numpy array for the Labels for recurrance\n",
    "labels = np.array(df.apply(assign_label, axis=1)) \n",
    "#DIF DFI.time "
   ]
  },
  {
   "cell_type": "markdown",
   "metadata": {},
   "source": [
    "Transforms data by changing catagorical data into numerical data and filling in missing data points with medians or modes."
   ]
  },
  {
   "cell_type": "code",
   "execution_count": 65,
   "metadata": {},
   "outputs": [],
   "source": [
    "categorical_columns = [\"ETHNICITY\",\n",
    "                        \"ICD_10\", \n",
    "                        \"PRIOR_DX\", \n",
    "                        \"RACE\",\n",
    "                        \"RADIATION_THERAPY\", \n",
    "                        \"IN_PANCANPATHWAYS_FREEZE\", \n",
    "                        \"GENETIC_ANCESTRY_LABEL\"] #FIXME: do further research on what ICD_10 and ICD_O_3_SITE are\n",
    "\n",
    "#FIXME: I will need to go through the numerical categories and see if any need to be removed (because they represent data from after initial treatment)\n",
    "# Fill numerical NaNs with median\n",
    "numerical_df = df.select_dtypes(include=['number'])\n",
    "numerical_df = numerical_df.drop(columns=['OS_MONTHS', 'DSS_MONTHS', 'DFS_MONTHS', 'PFS_MONTHS'])\n",
    "numerical_df = numerical_df.fillna(numerical_df.median())\n",
    "\n",
    "# fill catagorical columns with mode\n",
    "categorical_df = df[categorical_columns]\n",
    "categorical_df = categorical_df.fillna(categorical_df.mode())\n",
    "\n",
    "\n",
    "# One-Hot Encode categorical columns (drop first to avoid redundancy)\n",
    "categorical_df = pd.get_dummies(categorical_df, drop_first=True, dtype=float)\n",
    "\n",
    "X = pd.concat([numerical_df, categorical_df], axis=1)\n",
    "X = X.to_numpy()\n"
   ]
  },
  {
   "cell_type": "markdown",
   "metadata": {},
   "source": [
    "# Part 2: Training My Model"
   ]
  },
  {
   "cell_type": "markdown",
   "metadata": {},
   "source": [
    "RandomForestClassifer (currently massively overfitting, but we're working on it)"
   ]
  },
  {
   "cell_type": "code",
   "execution_count": 72,
   "metadata": {},
   "outputs": [
    {
     "name": "stdout",
     "output_type": "stream",
     "text": [
      "Best params: {'clf__C': 0.01, 'select__k': 50}\n"
     ]
    },
    {
     "name": "stderr",
     "output_type": "stream",
     "text": [
      "c:\\Users\\gench\\AppData\\Local\\Programs\\Python\\Python310\\lib\\site-packages\\sklearn\\feature_selection\\_univariate_selection.py:111: UserWarning: Features [ 4354  8220 12187 12260 12415 12502 12892 13603 16431 19148] are constant.\n",
      "  warnings.warn(\"Features %s are constant.\" % constant_features_idx, UserWarning)\n",
      "c:\\Users\\gench\\AppData\\Local\\Programs\\Python\\Python310\\lib\\site-packages\\sklearn\\feature_selection\\_univariate_selection.py:112: RuntimeWarning: invalid value encountered in divide\n",
      "  f = msb / msw\n"
     ]
    }
   ],
   "source": [
    "X_train, X_test, y_train, y_test = train_test_split(X, labels, test_size=0.2)\n",
    "\n",
    "def run_random_forest_classifer():\n",
    "    # Code for training Random Forest\n",
    "    print(\"Running random forest classifier\")\n",
    "    pipeline = Pipeline([\n",
    "        ('variance_threshold', VarianceThreshold(threshold=0.0)), \n",
    "        ('scaler', StandardScaler()),\n",
    "        ('select', SelectKBest(score_func=f_classif)),\n",
    "        ('clf', RandomForestClassifier(random_state=100, class_weight='balanced'))\n",
    "    ])\n",
    "\n",
    "    # Define hyperparameter grid\n",
    "    param_grid = {\n",
    "        'clf__n_estimators': [50, 100],\n",
    "        'clf__max_depth': [None, 5, 10, 15],\n",
    "        'clf__min_samples_split': [2, 4],\n",
    "        'select__k': [50, 100, 500]\n",
    "    }\n",
    "\n",
    "def run_logistic_regression():\n",
    "    # Define the pipeline with Logistic Regression\n",
    "    print(\"Running Logistic Regression\")\n",
    "    pipeline = Pipeline([\n",
    "        ('variance_threshold', VarianceThreshold(threshold=0.0)), \n",
    "        ('scaler', StandardScaler()),\n",
    "        ('select', SelectKBest(score_func=f_classif, k=1000)),\n",
    "        ('clf', LogisticRegression(class_weight='balanced', random_state=100))\n",
    "    ])\n",
    "\n",
    "    # define hyperparameter grid for logistic regression\n",
    "    param_grid = {\n",
    "        'clf__C': [0.01, 0.1, 1, 10, 100],\n",
    "        'select__k': [50, 100, 500]\n",
    "    }\n",
    "\n",
    "# Change which model you are using here\n",
    "run_logistic_regression()\n",
    "\n",
    "# Set up cross-validation\n",
    "cv = StratifiedKFold(n_splits=5, shuffle=True, random_state=100)\n",
    "\n",
    "# Grid search over pipeline\n",
    "grid_search = GridSearchCV(\n",
    "    estimator=pipeline,\n",
    "    param_grid=param_grid,\n",
    "    cv=cv,\n",
    "    scoring='roc_auc',  # Or 'f1' if recurrence class is more important\n",
    "    n_jobs=-1\n",
    ")\n",
    "\n",
    "# Fit pipeline on training data\n",
    "grid_search.fit(X_train, y_train)\n",
    "print(\"Best params:\", grid_search.best_params_)\n",
    "\n",
    "best_model = grid_search.best_estimator_\n"
   ]
  },
  {
   "cell_type": "code",
   "execution_count": 67,
   "metadata": {},
   "outputs": [
    {
     "name": "stdout",
     "output_type": "stream",
     "text": [
      "best params:  {'clf__C': 0.01, 'select__k': 500}\n"
     ]
    },
    {
     "name": "stderr",
     "output_type": "stream",
     "text": [
      "c:\\Users\\gench\\AppData\\Local\\Programs\\Python\\Python310\\lib\\site-packages\\sklearn\\feature_selection\\_univariate_selection.py:111: UserWarning: Features [ 4783  6653 12260 12415 12424 12466 12488 12502 12526 17250 18227 20036] are constant.\n",
      "  warnings.warn(\"Features %s are constant.\" % constant_features_idx, UserWarning)\n",
      "c:\\Users\\gench\\AppData\\Local\\Programs\\Python\\Python310\\lib\\site-packages\\sklearn\\feature_selection\\_univariate_selection.py:112: RuntimeWarning: invalid value encountered in divide\n",
      "  f = msb / msw\n"
     ]
    }
   ],
   "source": [
    "cv = StratifiedKFold(n_splits=3, shuffle=True, random_state=100)\n",
    "\n",
    "grid_search = GridSearchCV(\n",
    "    estimator=pipeline,\n",
    "    param_grid=param_grid,\n",
    "    cv=cv,\n",
    "    scoring='roc_auc',\n",
    "    n_jobs=-1\n",
    ")\n",
    "\n",
    "# Fit the model\n",
    "grid_search.fit(X_train, y_train)\n",
    "\n",
    "# Best parameters and estimator\n",
    "best_params = grid_search.best_params_\n",
    "print(\"best params: \", best_params)\n",
    "\n",
    "best_model = grid_search.best_estimator_\n"
   ]
  },
  {
   "cell_type": "code",
   "execution_count": 73,
   "metadata": {},
   "outputs": [
    {
     "name": "stdout",
     "output_type": "stream",
     "text": [
      "Parameters: {'clf__C': 0.01, 'select__k': 50}\n",
      "Mean AUC-ROC: 0.6244\n",
      "Standard Deviation: 0.0594\n",
      "------------------------------\n",
      "Parameters: {'clf__C': 0.01, 'select__k': 100}\n",
      "Mean AUC-ROC: 0.6232\n",
      "Standard Deviation: 0.0691\n",
      "------------------------------\n",
      "Parameters: {'clf__C': 0.01, 'select__k': 500}\n",
      "Mean AUC-ROC: 0.6125\n",
      "Standard Deviation: 0.0700\n",
      "------------------------------\n",
      "Parameters: {'clf__C': 0.1, 'select__k': 50}\n",
      "Mean AUC-ROC: 0.5762\n",
      "Standard Deviation: 0.0640\n",
      "------------------------------\n",
      "Parameters: {'clf__C': 0.1, 'select__k': 100}\n",
      "Mean AUC-ROC: 0.5819\n",
      "Standard Deviation: 0.0447\n",
      "------------------------------\n",
      "Parameters: {'clf__C': 0.1, 'select__k': 500}\n",
      "Mean AUC-ROC: 0.5858\n",
      "Standard Deviation: 0.0540\n",
      "------------------------------\n",
      "Parameters: {'clf__C': 1, 'select__k': 50}\n",
      "Mean AUC-ROC: 0.5405\n",
      "Standard Deviation: 0.0616\n",
      "------------------------------\n",
      "Parameters: {'clf__C': 1, 'select__k': 100}\n",
      "Mean AUC-ROC: 0.5581\n",
      "Standard Deviation: 0.0461\n",
      "------------------------------\n",
      "Parameters: {'clf__C': 1, 'select__k': 500}\n",
      "Mean AUC-ROC: 0.5752\n",
      "Standard Deviation: 0.0497\n",
      "------------------------------\n",
      "Parameters: {'clf__C': 10, 'select__k': 50}\n",
      "Mean AUC-ROC: 0.5371\n",
      "Standard Deviation: 0.0612\n",
      "------------------------------\n",
      "Parameters: {'clf__C': 10, 'select__k': 100}\n",
      "Mean AUC-ROC: 0.5440\n",
      "Standard Deviation: 0.0610\n",
      "------------------------------\n",
      "Parameters: {'clf__C': 10, 'select__k': 500}\n",
      "Mean AUC-ROC: 0.5594\n",
      "Standard Deviation: 0.0435\n",
      "------------------------------\n",
      "Parameters: {'clf__C': 100, 'select__k': 50}\n",
      "Mean AUC-ROC: 0.5370\n",
      "Standard Deviation: 0.0608\n",
      "------------------------------\n",
      "Parameters: {'clf__C': 100, 'select__k': 100}\n",
      "Mean AUC-ROC: 0.5358\n",
      "Standard Deviation: 0.0508\n",
      "------------------------------\n",
      "Parameters: {'clf__C': 100, 'select__k': 500}\n",
      "Mean AUC-ROC: 0.5284\n",
      "Standard Deviation: 0.0523\n",
      "------------------------------\n"
     ]
    }
   ],
   "source": [
    "# Retrieve the results from grid search\n",
    "cv_results = grid_search.cv_results_\n",
    "\n",
    "# Extract the mean test scores for each parameter combination\n",
    "mean_test_scores = cv_results['mean_test_score']\n",
    "\n",
    "# Extract the standard deviation of test scores for each parameter combination\n",
    "std_test_scores = cv_results['std_test_score']\n",
    "\n",
    "# Extract the parameter settings for each run\n",
    "params = cv_results['params']\n",
    "\n",
    "# Print the AUC-ROC scores for each parameter combination\n",
    "for mean, std, param in zip(mean_test_scores, std_test_scores, params):\n",
    "    print(f\"Parameters: {param}\")\n",
    "    print(f\"Mean AUC-ROC: {mean:.4f}\")\n",
    "    print(f\"Standard Deviation: {std:.4f}\")\n",
    "    print(\"-\" * 30)\n"
   ]
  },
  {
   "cell_type": "markdown",
   "metadata": {},
   "source": [
    "Analyzing the prediction of the training data"
   ]
  },
  {
   "cell_type": "code",
   "execution_count": 74,
   "metadata": {},
   "outputs": [
    {
     "name": "stdout",
     "output_type": "stream",
     "text": [
      "[0 0 0 0 1 1 0 0 0 1 0 0 1 1 1 0 1 0 1 0 0 1 0 1 1 0 1 1 1 1 0 0 0 0 1 0 1\n",
      " 0 0 0 0 0 0 1 0 0 1 0 0 0 0 0 0 0 0 0 0 0 0 0 0 1 0 0 1 0 1 1 0 0 1 0 0 0\n",
      " 0 1 1 0 1 1 0 0 0 1 1 1 1 1 1 0 1 0 0 0 0 1 0 0 0 0 0 0 0 0 1 0 1 0 0 1 0\n",
      " 0 1 0 1 0 0 1 1 0 0 0 0 0 0 0 1 1 0 0 0 0 0 1 0 0 0 0 0 0 1 0 0 1 0 0 1 1\n",
      " 0 0 0 0 0 1 0 1 0 0 0 0 0 0 0 0 0 0 1 1 0 0 1 1 0 0 0 1 1 0 0 0 0 1 0 0 0\n",
      " 1 1 1 1 0 0 0 0 0 0 1 1 0 0 0 0 1 1 0 0 0 1 0 1 0 0 0 0 1 1 0 1 0 1 0 0 0\n",
      " 0 0 1 1 0 0 0 0 0 1 1 0 0 0 1 0 0 0 0 0 0 0 1 1 0 0 0 0 0 0 0 0 0 0 1 0 0\n",
      " 1 1 0 1 0 1 1 0 0 0 0 0 0 1 0 0 0 0 0 1 0 1 1 0 0 1 0 1 0 0 1 1 0 0 1 1 0\n",
      " 1 1 0 1 1 0 0 0 0 0 0 0 1 1 0 0 0 1 0 1 0 0 0 0 0 0 1 0 0 1 0 0 0 0 1 0 0\n",
      " 0 0 0 1 1 1 0 0 0 0 0 1 0 0 1 0 1 0 0 0 1 0 0 1 0 1 0 0 0 0 0 1 0 0 0 1 0\n",
      " 1 0 1 0 1 0 0 0 0 0 0 1 0 0 0 0 0 0 0 0 0 0 0 0 1 0]\n",
      "True Positives (TP): 53\n",
      "False Positives (FP): 70\n",
      "True Negatives (TN): 258\n",
      "False Negatives (FN): 15\n",
      "AUC-ROC Score: 0.7830\n"
     ]
    },
    {
     "data": {
      "image/png": "[encoded data removed]",
      "text/plain": [
       "<Figure size 600x600 with 1 Axes>"
      ]
     },
     "metadata": {},
     "output_type": "display_data"
    }
   ],
   "source": [
    "y_train_pred = best_model.predict(X_train)\n",
    "\n",
    "print(y_train_pred)\n",
    "\n",
    "cm_test = confusion_matrix(y_train, y_train_pred)\n",
    "tn, fp, fn, tp = cm_test.ravel()\n",
    "print(f\"True Positives (TP): {tp}\")\n",
    "print(f\"False Positives (FP): {fp}\")\n",
    "print(f\"True Negatives (TN): {tn}\")\n",
    "print(f\"False Negatives (FN): {fn}\")\n",
    "\n",
    "# Compute the AUC-ROC score\n",
    "roc_auc = roc_auc_score(y_train, y_train_pred)\n",
    "\n",
    "# Print the AUC-ROC score\n",
    "print(f\"AUC-ROC Score: {roc_auc:.4f}\")\n",
    "\n",
    "# Compute ROC curve\n",
    "fpr, tpr, _ = roc_curve(y_train, y_train_pred)\n",
    "\n",
    "# Plot the ROC Curve\n",
    "plt.figure(figsize=(6, 6))\n",
    "plt.plot(fpr, tpr, linestyle='-', label=f'ROC Curve (AUC = {roc_auc:.2f})')\n",
    "plt.plot([0, 1], [0, 1], linestyle='--', color='gray')  # Random classifier line\n",
    "plt.xlabel(\"False Positive Rate (FPR)\")\n",
    "plt.ylabel(\"True Positive Rate (TPR)\")\n",
    "plt.title(\"ROC Curve\")\n",
    "plt.legend()\n",
    "plt.show()"
   ]
  },
  {
   "cell_type": "markdown",
   "metadata": {},
   "source": [
    "Analyzing the performace on the training data"
   ]
  },
  {
   "cell_type": "code",
   "execution_count": 75,
   "metadata": {},
   "outputs": [
    {
     "name": "stdout",
     "output_type": "stream",
     "text": [
      "[0 0 1 0 0 0 1 0 0 0 0 0 1 0 0 0 1 1 0 0 0 1 1 0 0 0 0 1 0 1 1 0 1 0 1 0 1\n",
      " 0 1 0 0 0 1 1 0 1 0 1 1 0 0 0 0 1 0 0 0 0 1 1 0 0 0 0 0 0 0 1 0 0 1 1 0 0\n",
      " 0 0 0 0 1 0 1 0 0 1 0 0 1 0 1 0 1 1 0 0 0 0 0 1 1]\n",
      "True Positives (TP): 8\n",
      "False Positives (FP): 26\n",
      "True Negatives (TN): 57\n",
      "False Negatives (FN): 8\n",
      "AUC-ROC Score: 0.5934\n"
     ]
    },
    {
     "data": {
      "image/png": "[encoded data removed]",
      "text/plain": [
       "<Figure size 600x600 with 1 Axes>"
      ]
     },
     "metadata": {},
     "output_type": "display_data"
    }
   ],
   "source": [
    "y_test_pred = best_model.predict(X_test)\n",
    "\n",
    "print(y_test_pred)\n",
    "\n",
    "cm_test = confusion_matrix(y_test, y_test_pred)\n",
    "tn, fp, fn, tp = cm_test.ravel()\n",
    "print(f\"True Positives (TP): {tp}\")\n",
    "print(f\"False Positives (FP): {fp}\")\n",
    "print(f\"True Negatives (TN): {tn}\")\n",
    "print(f\"False Negatives (FN): {fn}\")\n",
    "\n",
    "# Compute the AUC-ROC score\n",
    "roc_auc = roc_auc_score(y_test, y_test_pred)\n",
    "\n",
    "# Print the AUC-ROC score\n",
    "print(f\"AUC-ROC Score: {roc_auc:.4f}\")\n",
    "\n",
    "# Compute ROC curve\n",
    "fpr, tpr, _ = roc_curve(y_test, y_test_pred)\n",
    "\n",
    "# Plot the ROC Curve\n",
    "plt.figure(figsize=(6, 6))\n",
    "plt.plot(fpr, tpr, linestyle='-', label=f'ROC Curve (AUC = {roc_auc:.2f})')\n",
    "plt.plot([0, 1], [0, 1], linestyle='--', color='gray')  # Random classifier line\n",
    "plt.xlabel(\"False Positive Rate (FPR)\")\n",
    "plt.ylabel(\"True Positive Rate (TPR)\")\n",
    "plt.title(\"ROC Curve\")\n",
    "plt.legend()\n",
    "plt.show()"
   ]
  }
 ],
 "metadata": {
  "kernelspec": {
   "display_name": "Python 3",
   "language": "python",
   "name": "python3"
  },
  "language_info": {
   "codemirror_mode": {
    "name": "ipython",
    "version": 3
   },
   "file_extension": ".py",
   "mimetype": "text/x-python",
   "name": "python",
   "nbconvert_exporter": "python",
   "pygments_lexer": "ipython3",
   "version": "3.10.6"
  }
 },
 "nbformat": 4,
 "nbformat_minor": 2
}
