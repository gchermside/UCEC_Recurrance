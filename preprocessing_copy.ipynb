{
 "cells": [
  {
   "cell_type": "markdown",
   "metadata": {},
   "source": [
    "## UCEC Reccurence Notebook - Pre-processing\n",
    "This program processes data from ucec_tcga_pan_can_atlas_2018 to be ready for training a machine learning algorithm to predict recurrence. "
   ]
  },
  {
   "cell_type": "code",
   "execution_count": 18,
   "metadata": {},
   "outputs": [],
   "source": [
    "import config\n",
    "\n",
    "import pandas as pd\n",
    "import numpy as np\n",
    "import joblib\n",
    "from collections import Counter\n",
    "\n",
    "from sklearn.preprocessing import StandardScaler\n",
    "from sklearn.preprocessing import OneHotEncoder, LabelEncoder\n",
    "from sklearn.preprocessing import StandardScaler\n",
    "from sklearn.model_selection import train_test_split\n"
   ]
  },
  {
   "cell_type": "code",
   "execution_count": 19,
   "metadata": {},
   "outputs": [],
   "source": [
    "# Loading in the mRNA and clinical data:\n",
    "mrna_df = pd.read_csv(\"ucec_tcga_pan_can_atlas_2018/data_mrna_seq_v2_rsem_zscores_ref_all_samples.txt\", sep=\"\\t\", comment=\"#\")\n",
    "\n",
    "clinical_df = pd.read_csv(\"ucec_tcga_pan_can_atlas_2018\\data_clinical_patient.txt\", sep=\"\\t\", comment=\"#\", low_memory=False)\n",
    "clinical_df = clinical_df.set_index('PATIENT_ID')\n",
    "# There are 527 patients in the mRNA and 529 patients in the clinical data\n",
    "\n",
    "# The first 2 columns of the mRNA data are labels (Hugo_Symbol then Entrez_Gene_Id). \n",
    "# 13 of the genes do not have Hugo_symbols, so for these I will you the Entrex_Gene_Id as the label.\n",
    "missing_symbols = mrna_df['Hugo_Symbol'].isnull()\n",
    "mrna_df.loc[missing_symbols, 'Hugo_Symbol'] = mrna_df.loc[missing_symbols, 'Entrez_Gene_Id'].astype(str)\n",
    "\n",
    "# There are 7 rows that have both the same Hugo_Symbol and Entrez_Gene_Id but different values for the patients.\n",
    "# I will rename these rows to have unique labels by appending -1-of-2 and -2-of-2 to the Hugo_Symbol.\n",
    "# Get value counts\n",
    "counts = mrna_df['Hugo_Symbol'].value_counts()\n",
    "\n",
    "# Generate unique labels for duplicates\n",
    "def label_duplicates(value, index):\n",
    "    if counts[value] == 1:\n",
    "        return value  # Keep unique values unchanged\n",
    "    occurrence = mrna_df.groupby('Hugo_Symbol').cumcount() + 1  # Count occurrences per group\n",
    "    return f\"{value}-{occurrence[index]}-of-{counts[value]}\"\n",
    "\n",
    "# Apply the labeling function\n",
    "mrna_df['Hugo_Symbol'] = [label_duplicates(value, idx) for idx, value in mrna_df['Hugo_Symbol'].items()]\n",
    "\n",
    "mrna_df = mrna_df.set_index('Hugo_Symbol')\n",
    "mrna_df = mrna_df.drop(columns=\"Entrez_Gene_Id\") # removing the label column before I transpose the df\n",
    "mrna_df= mrna_df.transpose() # now the patients are the index and the genes are the columns\n",
    "mrna_df.index = [id[:-3] for id in mrna_df.index] # removes extranious -01 so that the patient ids match the clinical data\n",
    "\n",
    "def drop_patients_missing_data(clinical_df, mrna_df):\n",
    "    # Find patient IDs not shared between the two dataframes:\n",
    "    clinical_not_in_mrna = set(clinical_df.index) - set(mrna_df.index)\n",
    "    mrna_not_in_clinical = set(mrna_df.index) - set(clinical_df.index)\n",
    "    # There are 2 patients ('TCGA-EY-A1GJ', 'TCGA-AP-A0LQ') in the clinical data that are not in the mRNA data.\n",
    "    clinical_df = clinical_df.drop(index=clinical_not_in_mrna)\n",
    "    mrna_df = mrna_df.drop(index=mrna_not_in_clinical)\n",
    "    return clinical_df, mrna_df\n",
    "\n",
    "clinical_df, mrna_df = drop_patients_missing_data(clinical_df, mrna_df)\n",
    "# Now both dataframes have 527 patients"
   ]
  },
  {
   "cell_type": "code",
   "execution_count": 20,
   "metadata": {},
   "outputs": [],
   "source": [
    "# Data frame for clinical and genetic data. It has 527 patients (rows) and 20568 features (columns).\n",
    "df = clinical_df.join(mrna_df, how='inner')\n",
    "\n",
    "# Check that all column labels in mrna_df are strings\n",
    "non_str_cols = [col for col in df.columns if not isinstance(col, str)]\n",
    "if non_str_cols: \n",
    "    raise ValueError(f\"Non-string column labels found: {non_str_cols}\")"
   ]
  },
  {
   "cell_type": "code",
   "execution_count": 21,
   "metadata": {},
   "outputs": [
    {
     "data": {
      "text/plain": [
       "SUBTYPE                                                               UCEC_CN_HIGH\n",
       "CANCER_TYPE_ACRONYM                                                           UCEC\n",
       "OTHER_PATIENT_ID                              8d9e4917-334b-4c76-aee1-1e22be772db0\n",
       "AGE                                                                           74.0\n",
       "SEX                                                                         Female\n",
       "AJCC_PATHOLOGIC_TUMOR_STAGE                                                    NaN\n",
       "AJCC_STAGING_EDITION                                                           NaN\n",
       "DAYS_LAST_FOLLOWUP                                                             309\n",
       "DAYS_TO_BIRTH                                                             -27077.0\n",
       "DAYS_TO_INITIAL_PATHOLOGIC_DIAGNOSIS                                           0.0\n",
       "ETHNICITY                                                   Not Hispanic Or Latino\n",
       "FORM_COMPLETION_DATE                                                       2/23/11\n",
       "HISTORY_NEOADJUVANT_TRTYN                                                       No\n",
       "ICD_10                                                                       C54.1\n",
       "ICD_O_3_HISTOLOGY                                                           8380/3\n",
       "ICD_O_3_SITE                                                                 C54.1\n",
       "INFORMED_CONSENT_VERIFIED                                                      Yes\n",
       "NEW_TUMOR_EVENT_AFTER_INITIAL_TREATMENT                                        Yes\n",
       "PATH_M_STAGE                                                                   NaN\n",
       "PATH_N_STAGE                                                                   NaN\n",
       "PATH_T_STAGE                                                                   NaN\n",
       "PERSON_NEOPLASM_CANCER_STATUS                                           Tumor Free\n",
       "PRIMARY_LYMPH_NODE_PRESENTATION_ASSESSMENT                                     NaN\n",
       "PRIOR_DX                                                                        No\n",
       "RACE                                                                         White\n",
       "RADIATION_THERAPY                                                               No\n",
       "WEIGHT                                                                        59.0\n",
       "IN_PANCANPATHWAYS_FREEZE                                                       Yes\n",
       "OS_STATUS                                                               1:DECEASED\n",
       "OS_MONTHS                                                                  31.0024\n",
       "DSS_STATUS                                                       1:DEAD WITH TUMOR\n",
       "DSS_MONTHS                                                                 31.0024\n",
       "DFS_STATUS                                                                     NaN\n",
       "DFS_MONTHS                                                                     NaN\n",
       "PFS_STATUS                                                           1:PROGRESSION\n",
       "PFS_MONTHS                                                               22.487425\n",
       "GENETIC_ANCESTRY_LABEL                                                         EUR\n",
       "100130426                                                                      NaN\n",
       "100133144                                                                   0.8959\n",
       "UBE2Q2P2                                                                    1.2021\n",
       "HMGB1P1                                                                    -0.0961\n",
       "10431                                                                       0.4811\n",
       "136542                                                                         NaN\n",
       "155060                                                                     -0.7785\n",
       "RNU12-2P                                                                       NaN\n",
       "SSX9P                                                                          NaN\n",
       "317712                                                                         NaN\n",
       "EZHIP                                                                          NaN\n",
       "EFCAB8                                                                      0.9529\n",
       "SRP14P1                                                                    -0.0272\n",
       "391343                                                                         NaN\n",
       "TRIM75P                                                                        NaN\n",
       "SPATA31B1P                                                                     NaN\n",
       "REXO1L6P                                                                       NaN\n",
       "SDR16C6P                                                                       NaN\n",
       "Name: TCGA-BK-A139, dtype: object"
      ]
     },
     "execution_count": 21,
     "metadata": {},
     "output_type": "execute_result"
    }
   ],
   "source": [
    "df.loc[\"TCGA-BK-A139\"][:55] # example patient data for a patient with recurrence This is the only patient that I am postive experienced recurrence"
   ]
  },
  {
   "cell_type": "markdown",
   "metadata": {},
   "source": [
    "The following genes appear in the data more than once but have different data: \n",
    "['PALM2AKAP2', 'ELMOD1', 'FGF13', 'QSOX1', 'SNAP47', 'NKAIN3', 'TMEM8B']\n",
    "Right now, I'm leaving every version of the gene in, but giving placeholder unique names like: PALM2AKAP2-1-of-2 and PALM2AKAP2-2-of-2"
   ]
  },
  {
   "cell_type": "markdown",
   "metadata": {},
   "source": [
    "Removing unecessary columns from clinical data."
   ]
  },
  {
   "cell_type": "code",
   "execution_count": 22,
   "metadata": {},
   "outputs": [
    {
     "name": "stdout",
     "output_type": "stream",
     "text": [
      "TCGA-AJ-A3BH   NaN\n",
      "TCGA-DF-A2KN   NaN\n",
      "TCGA-DF-A2KR   NaN\n",
      "TCGA-DF-A2KS   NaN\n",
      "TCGA-DF-A2KU   NaN\n",
      "TCGA-DF-A2L0   NaN\n",
      "Name: DAYS_TO_INITIAL_PATHOLOGIC_DIAGNOSIS, dtype: float64\n"
     ]
    }
   ],
   "source": [
    "# testing to see if this informationless column is removed in the pre processing (it should be)\n",
    "nonzero_patients = df[df[\"DAYS_TO_INITIAL_PATHOLOGIC_DIAGNOSIS\"] != 0]\n",
    "print(nonzero_patients[\"DAYS_TO_INITIAL_PATHOLOGIC_DIAGNOSIS\"])\n"
   ]
  },
  {
   "cell_type": "code",
   "execution_count": 23,
   "metadata": {},
   "outputs": [],
   "source": [
    "\n",
    "def assign_label(row):\n",
    "    '''given a row assigns 1 for recurrance, 0 for no recurrance, \n",
    "    and None if the patient has no recurrence information. \n",
    "    Currently uses NEW_TUMOR_EVENT_AFTER_INITIAL_TREATMENT to identify recurrance.\n",
    "    If NEW_TUMOR_EVENT_AFTER_INITIAL_TREATMENT is NaN, uses DSF_STATUS to save the label.'''\n",
    "    if row['NEW_TUMOR_EVENT_AFTER_INITIAL_TREATMENT'] == 'Yes':\n",
    "        return 1\n",
    "    elif row['NEW_TUMOR_EVENT_AFTER_INITIAL_TREATMENT'] == 'No':\n",
    "        return 0\n",
    "    elif pd.isna(row['NEW_TUMOR_EVENT_AFTER_INITIAL_TREATMENT']):\n",
    "        if row['DFS_STATUS'] == '1:Recurred/Progressed':\n",
    "            return 1\n",
    "        elif row['DFS_STATUS'] == '0:DiseaseFree':\n",
    "            return 0\n",
    "        else:\n",
    "            return None\n",
    "\n",
    "def drop_highly_uniform_columns(df, threshold=0.99):\n",
    "    \"\"\"\n",
    "    Drops columns where more than 'threshold' proportion of non-NaN values are the same.\n",
    "\n",
    "    Parameters:\n",
    "    - df: pandas DataFrame\n",
    "    - threshold: float (default 0.99), proportion threshold to drop columns\n",
    "\n",
    "    Returns:\n",
    "    - pandas DataFrame with specified columns dropped\n",
    "    \"\"\"\n",
    "    cols_to_drop = []\n",
    "    for col in df.columns:\n",
    "        non_na_values = df[col].dropna()\n",
    "        if not non_na_values.empty:\n",
    "            top_freq = non_na_values.value_counts(normalize=True).iloc[0]\n",
    "            if top_freq > threshold:\n",
    "                cols_to_drop.append(col)\n",
    "    return df.drop(columns=cols_to_drop)\n"
   ]
  },
  {
   "cell_type": "code",
   "execution_count": 24,
   "metadata": {},
   "outputs": [],
   "source": [
    "# Drop rows with no recurrence label\n",
    "df = df.dropna(\n",
    "    subset=[\"DFS_STATUS\", \"NEW_TUMOR_EVENT_AFTER_INITIAL_TREATMENT\"],\n",
    "    how=\"all\"\n",
    ")\n",
    "\n",
    "# Labels array for recurrence\n",
    "labels = np.array(df.apply(assign_label, axis=1))\n",
    "label_counts = Counter(labels)\n"
   ]
  },
  {
   "cell_type": "code",
   "execution_count": 25,
   "metadata": {},
   "outputs": [],
   "source": [
    "# from collections import Counter\n",
    "# import numpy as np\n",
    "\n",
    "# # Group counts for label-related columns\n",
    "# pair_counts = (\n",
    "#     df.groupby(\n",
    "#         [\"NEW_TUMOR_EVENT_AFTER_INITIAL_TREATMENT\", \"DFS_STATUS\", \"PFS_STATUS\"],\n",
    "#         dropna=False\n",
    "#     )\n",
    "#     .size()\n",
    "#     .reset_index(name=\"Count\")\n",
    "# )\n",
    "\n",
    "# # Nicely print the pairings and counts\n",
    "# print(\"\\n=== Pair Counts (Before Dropping Missing Labels) ===\")\n",
    "# print(pair_counts.to_string(index=False))\n",
    "\n",
    "\n",
    "# # Pretty print label distribution\n",
    "# print(\"\\n=== Label Distribution (After Cleaning) ===\")\n",
    "# total = sum(label_counts.values())\n",
    "# for label, count in label_counts.items():\n",
    "#     pct = (count / total) * 100\n",
    "#     print(f\"{label:12} : {count:4} ({pct:5.1f}%)\")\n"
   ]
  },
  {
   "cell_type": "code",
   "execution_count": 26,
   "metadata": {},
   "outputs": [
    {
     "name": "stdout",
     "output_type": "stream",
     "text": [
      "(495, 20568)\n",
      "(495,)\n"
     ]
    }
   ],
   "source": [
    "print(df.shape)\n",
    "print(labels.shape)"
   ]
  },
  {
   "cell_type": "code",
   "execution_count": 27,
   "metadata": {},
   "outputs": [],
   "source": [
    "X_train, X_test, y_train, y_test = train_test_split(df, labels, test_size=0.2, random_state=1, stratify=labels)"
   ]
  },
  {
   "cell_type": "code",
   "execution_count": 28,
   "metadata": {},
   "outputs": [
    {
     "name": "stdout",
     "output_type": "stream",
     "text": [
      "length before removing null-heavy columns: 20568\n",
      "length after removing null-heavy columns: 17538\n",
      "{'ZNRF4', 'OR4K13', 'C4orf6', 'OTOS', 'OR6B3', 'PXT1', 'TTTY6B', 'PRG1', 'OR6C2', 'ADAM3A', 'DEFB108B', 'FAM75A6', 'H2BFM', 'NMS', 'NTSR2', 'SNORA11', 'CDK15', 'HRH3', 'SNORD116-29', 'FAM75A3', 'GOLGA6FP', 'NAA11', 'KRTAP10-11', 'BARHL1', 'SNORA2A', 'SNORD4A', 'SNORD19', 'CCL27', 'GABRA5', 'SNORD25', 'SNORD11B', 'SNORA52', 'LINC01845', 'ALLC', 'SEMG2', 'IL28B', 'APOL5', 'CCDC105', 'NCRNA00099', 'HIST1H1T', 'PASD1', 'SNORD115-17', 'ELMOD1-2-of-2', 'PDILT', 'DPPA3', 'AVP', 'CNTFR-AS1', 'SPANXB2', 'SLC6A18', 'RTL1', 'MYOG', 'COX7B2', 'MSGN1', 'DAZ4', 'NCRNA00161', 'KRT76', 'SNORD27', 'ZNF479', 'LELP1', 'C1orf158', 'ZFHX4-AS1', 'HFE2', 'IL31', 'IFNK', 'CNTNAP4', 'GJA10', 'SNORD36C', 'OR9K2', 'SRRM4', 'KRTAP3-1', 'LINGO3', 'SLC5A8', 'C20orf123', 'OR4D5', 'MCCD1', 'REXO1L1', 'SSX9P', 'HTR1E', 'GPR31', 'GPR142', 'DUX4L2', 'OR9A2', 'NPFFR2', 'PDE6H', 'SNORD115-32', 'PSMB11', 'CDH18', 'LHX9', 'TSGA13', 'OR14A16', 'SCARNA27', 'USP17L6P', 'CSH1', 'SNORD115-47', 'CSRP3', 'SPACA1', 'PRY2', 'SPATA31B1P', 'OR6C6', 'C4orf45', 'REG3G', 'SELV', 'CACNG2', 'CABP5', 'C21orf131', 'SEL1L2', 'OR5I1', 'ZCCHC16', 'FAM48B2', 'TBPL2', 'TTTY7', 'C20orf144', 'SNORD67', 'KRTAP11-1', 'SPANXE', 'TPRX1', 'SCGB1C1', 'CHRNA4', 'OR6V1', 'SNORD116-13', 'SNORD115-6', 'KLRC4', 'SNORA41', 'NCRNA00032', 'LOC650293', 'OR1N1', '136542', 'CSN2', 'SNORD105B', 'CDH7', 'SCARNA18', 'TRIM6-TRIM34', 'OR51I2', 'SNORD79', 'OR10G9', 'BHLHE23', 'MAGEA10', 'ATP6V1G3', 'SCN10A', 'BTG4', 'TTTY20', 'SNORA32', 'RANBP3L', 'TMPRSS11B', 'DEFB112', 'OR8B3', 'MRAP', 'DEFB105A', 'PRAMEF17', 'PNLIP', 'LGALS13', 'NPY2R', 'ADRB3', 'MSMB', 'SLC35F4', 'PABPC1L2B', 'HULC', 'SNORA36B', 'DEFB135', 'C2orf51', 'SNORD8', 'CRISP2', 'SNORA50', 'TCERG1L', 'KRTAP3-2', 'SNORD114-22', 'S100G', 'SNORD114-8', 'ANGPTL5', 'ACSM4', 'TAAR9', 'ACTL7A', 'SNORD4B', 'OR6W1P', 'SNORD73A', 'MC4R', 'CYP4A22', 'SNORD58C', 'PCDH8', 'SPZ1', 'FFAR1', 'OR10H1', 'C12orf12', 'SNORD114-2', 'OR4A47', 'OR12D3', 'IL25', 'ANKRD26P1', 'PWAR1', 'ITGB1BP3', 'SNORD113-7', 'CA5A', 'FBXO40', 'KRTAP19-1', 'CYP2A13', 'CPA1', 'OR1D4', 'CST8', 'C18orf20', 'SNORD62A', 'PAPOLB', 'PSG1', 'BIRC8', 'ZDHHC22', 'C3orf16', 'SNORD57', 'PISRT1', 'NXF5', 'CSN1S2A', 'MAGEE2', 'FNDC7', 'AMAC1', 'OR10A6', 'SNORD6', 'C15orf2', 'SPRR4', 'ACOT12', 'CCKAR', 'SLC34A1', 'OR52N5', 'DDX53', 'FOXB2', 'SNORD49A', 'SFTA3', 'FAM154A', 'GADL1', 'OR10X1', 'AKR1C6P', 'C2orf27B', 'OR6X1', 'SNORD114-19', 'SNORD115-20', 'OR51S1', 'OR51G2', 'OR2H1', 'OR6C76', 'C11orf94', 'NCRNA00164', 'DDX3Y', 'OR2F2', 'SPATA3', 'IQCF2', 'SNORA12', 'MGAT4C', 'OR13H1', 'OR4F4', 'ADAMTS20', 'RDH8', 'OR5B12', 'LINC00632', 'VPREB1', 'NEUROD2', 'SNORD56B', 'RNY5', 'GAGE13', 'AMTN', 'VTRNA1-3', 'KRTAP19-2', 'TMEFF2', 'IL1F6', 'CRNN', 'NHLH2', 'FAM99B', 'LOC400940', 'MAS1L', 'AMELX', 'HOXC12', 'TMEM88B', 'OR2T10', 'SULT6B1', 'LINC02347', 'SNORD115-11', 'RMST', 'PDHA2', 'SCGBL', 'ENPP7', 'OR7C2', 'SNORD102', 'SNORD113-6', 'RTP1', 'OR10H2', 'OR8J1', 'ZNF733P', 'PDC', 'OR6C4', 'SNORD115-48', 'PTH', 'CCDC166', 'OR51A2', 'OR10V1', 'IL1RAPL2', 'ANKRD20A20P', 'FAM123A', 'SNORD116-23', 'OR2AG1', 'APOA4', 'FAM24A', 'SYNPR', 'CDH9', 'TAS2R16', 'FAM133A', 'IQCF6', 'OR1S2', 'SNORD48', 'HBII-52-45', 'SNORD49B', 'SSX6', 'LCE1D', 'KRTAP7-1', 'LINC00298', 'DBX2', 'SNORD41', 'DPPA4', 'OR2T6', 'FAM99A', 'C1orf49', 'TAS2R46', 'PTF1A', 'C1orf87', 'OR6C68', 'FGF21', 'FLJ25758', 'CA1', 'DUSP13', 'SERPINA7', 'KC6', 'C21orf94', 'SNAR-A4', 'SOX21', 'ASCL4', 'MS4A10', 'OR8D2', 'OR5H6', 'APOA2', 'OR5M10', 'PFN3', 'OR5M1', 'OR8B4', 'PRR20C', 'PIWIL3', 'C1orf68', 'OR5B17', 'C19orf30', 'NCRNA00110', 'HTR1A', 'KRTAP2-2', 'RAG2', 'SEPT14', 'SNORD99', 'C7orf45', 'MGC26647', 'SNORD115-9', 'C7orf34', 'AWAT2', 'SYCP1', 'OR4K5', 'SALL3', 'TRIM42', 'OR4D6', 'MT1IP', 'SLC9A11', 'ARMS2', 'ADAM18', 'NKX6-1', 'TRIM64', 'GYPB', 'OR6C74', 'ATP4B', 'PSG9', 'C12orf77', 'ADAM5P', 'EXOC1L', 'OR4K2', 'SP7', 'OR9Q2', 'GPR32', 'IRGM', 'SNORA79', 'CXorf61', 'MC2R', 'OR11H6', 'GPR50', 'OR10P1', 'OR8B2', 'LINC00326', 'CXorf51', 'TNP2', 'SNORD86', 'GNAT1', 'SKINTL', 'STARD6', 'PRAMEF14', 'MAGEA12', 'LOC100133469', 'C9orf57', 'PTCHD3', 'CCDC70', 'PIK3C2G', 'TBC1D21', 'RBMXL2', 'TFAP2B', 'C16orf82', 'KRTAP10-8', 'OR5M11', 'PCNAP1', 'SCGB1A1', 'IL29', 'OR10S1', 'PHACTR2-AS1', 'TRDN', 'CTAG1B', 'GABRR3', 'C18orf2', 'IGFL3', 'SNORD115-4', 'CTSL3', 'CETN1', 'OR7E156P', 'SYT9', 'CLC', 'MOS', 'OR9G9', 'REG1B', 'GABRG2', 'PAGE2B', 'LYZL6', 'DCC', 'GIP', 'TAS2R7', 'TRIML1', 'FAM71E2', 'RBMXL3', 'OR2B11', 'KRTAP17-1', 'SPTA1', 'OPRD1', 'CSH2', 'C9', 'PCA3', 'CTRB1', 'OR2L1P', 'DMBT1L1', 'IAPP', 'OR2T4', 'TMEM207', 'CFC1B', 'OR6C3', 'TTTY15', 'OR52B6', 'PGLYRP3', 'SUMO1P1', 'GAGE2B', 'OTOP1', 'NCRNA00158', 'CRYGB', 'KRTAP4-2', 'KCNA10', 'HPVC1', 'MLNR', 'CST11', 'OR2C1', 'TUSC5', 'TRIM53', 'SNORD116-16', 'CNBD1', 'C9orf53', 'OR6B1', 'XKRY', 'UBL4B', 'KRTAP12-1', 'SNORD18C', 'SNORD91A', 'C10orf90', 'TTTY2', 'OR1A2', 'OR3A1', 'SNORD114-18', 'FAM75A5', 'WDR64', 'LYZL2', 'SNORD115-44', 'TSPY2', 'OR2G6', 'ZP2', 'LACRT', 'SNORD114-16', 'OR2L2', 'CLEC4M', 'SNAR-C2', 'SNORD115-39', 'KRT78', 'FAM9B', 'CRYGA', 'CYorf15A', 'MYADML', 'FKSG73', 'DNAJB8', 'SPRR2F', 'SCGB1D2', 'LINC01973', 'MS4A13', 'OR4D9', 'GABRB1', 'C17orf102', 'C8A', 'SNORD114-28', 'SNORD28', 'PPBPL2', 'IL13', 'KLKP1', 'OR13J1', 'RNF17', 'LINC00879', 'SRY', 'OR6T1', 'CASC8', 'PRR20A', 'DMP1', 'LRRC52', 'NCRNA00052', 'RBMY1E', 'C21orf54', 'C6orf58', 'C14orf166B', 'C17orf64', 'DCAF8L1', 'KBTBD5', 'CELA2A', 'DEFB130', 'SLITRK1', 'IFNB1', 'OR2K2', 'SNORD88B', 'GAS2L1P2', 'OR8K3', 'FLG2', 'BASE', 'AIPL1', 'ANKRD34C', 'SSX3', 'OR10G7', 'LINC00895', 'CHIA', 'GOLGA2P3', 'SLURP1', 'SCARNA23', 'SNORD46', 'VCX3B', 'DUSP21', 'GPR149', 'SNORD115-13', 'LIPJ', 'TACR3', 'IFNA14', 'GHRH', 'SYCN', 'LINC02396', 'SNORD32A', 'LINC00606', 'TPH2', 'TBC1D28', 'SNORD45C', 'KRTAP21-2', 'SNORD5', 'IL26', 'C20orf71', 'CLDN22', 'OR2A5', 'KRTAP10-2', 'MAGEB2', 'TCHHL1', 'OR6B2', 'CPS1-IT1', 'NEUROG3', 'RESP18', 'C4orf22', 'FOLR4', 'SNAR-C3', 'ESX1', 'GOLGA2P6', 'OR4C3', 'SSX8', 'SPANXN4', 'SNAR-A3', 'OR51Q1', 'VENTXP1', 'FRMPD2L1', 'SNORD33', 'FAM187B', 'APCS', 'LIPF', 'OR2W1', 'DDX4', 'SNORD115-10', 'PRAMEF20', 'IRGC', 'OR8B12', 'USP50', 'CYP2A7', 'TMEM196', 'TAS2R39', 'HTN3', 'C9orf144', 'OR5D14', 'RPS4Y1', 'FSHB', 'OXT', 'TKTL2', 'AKAP4', 'KRT79', 'SNORD114-7', 'CT47A6', 'C3orf79', 'AGXT2', 'NF1P2', 'PYDC1', 'SPATA21', 'VAX1', 'OR1L3', 'PATE1', 'SERPINA9', 'SNORA23', 'KRT37', 'SNORD80', 'OR11G2', 'SNORD61', 'OR56B4', 'OR13C3', 'C7orf71', 'OR7E24', 'DSCR4', 'SLC39A12', 'SNORA70', 'ST7OT2', 'OR7A17', 'GUCA2B', 'CCDC83', 'CTRB2', 'BPIL3', 'DRGX', 'GSC2', 'LOC26102', 'WNT8A', 'TMEM174', 'PDCL2', 'T', 'GNASAS', 'SNORA38', 'OR5K4', 'MBD3L5', 'SNORD37', 'SNORD93', 'PRSS42', 'C9orf135', 'IFNA13', 'SNORA44', 'CCL1', 'OR4N3P', 'SPATA19', 'GUCY2GP', 'GGNBP1', 'CYLC2', 'TTTY5', 'UGT2A1', 'OR2Y1', 'ZCCHC5', 'SNORA58', 'OR10J5', '728603', 'LINC00906', 'VWC2L', 'LINC00671', 'OR10G3', 'SMR3B', 'OR10Z1', 'MYH4', 'PRSS38', 'CSN1S1', 'KIR2DL1', 'CXorf41', 'SLC17A4', 'SCARNA14', 'SNORA11E', 'NCRNA00111', 'GAGE1', 'PAX7', 'OPALIN', 'SLCO1B7', 'OTOP2', 'SIRPD', 'SPANXA2', 'PRAMEF5', 'GPR119', 'GRXCR2', 'KRTAP22-1', 'GAGE2E', 'C10orf62', 'IL3', 'REXO1L6P', 'NCRNA00029', 'SNORD114-6', 'SPANXN5', 'PRSS48', 'OR5A1', 'CTRC', 'NKX2-6', 'OR6C75', 'CYP26C1', 'GJA8', 'RNU12-2P', 'OR51A4', 'OOEP', 'CIB4', 'SNORD55', 'MAPT-AS1', 'CSN3', 'SNORA49', 'PPEF2', 'TREML3', 'OR6F1', 'KCNH5', 'FRG2C', 'KCNK18', 'DPRX', 'SNORD60', 'TTTY18', 'C11orf36', 'OR8I2', 'C20orf166', 'MGAM2', 'RXFP2', 'GABRA1', 'SLC22A6', 'BCORL2', 'LINC01226', 'KRTAP19-7', 'AICDA', 'PRSS55', 'KCNU1', 'GPR26', 'FAM197Y2', 'SNORD116-5', 'CRYGC', 'SPINK7', 'NLRP4', 'TNFSF18', 'CACNG3', 'SNTG1', 'PLCZ1', 'ACPT', 'SNORD116-3', 'C8orf56', 'SNORD30', 'CD200R1L', 'OR52A1', 'ENAM', 'OR1E1', 'C1QTNF8', 'HOXB1', 'OR14C36', 'DUX4L5', 'ASCL3', 'DEFB113', 'C10orf71', 'DEFB122', 'OR56A4', 'LINC00934', 'SNORD23', 'SNORA27', 'PRRG3', 'ODF3', 'OR2A14', 'CHRNA2', 'SYT10', 'SNORD76', 'FAM75A2', 'LIM2', 'TRIML2', 'OR2V2', 'TSPAN19', 'FGG', 'ZNF99', 'KRTAP24-1', 'TTTY13', 'SLC24A2', 'NCRNA00157', 'OR5AP2', 'LCE4A', 'USP17L2', 'SAGE1', 'SPIC', 'KRT34', 'CYP4Z2P', 'KIR3DX1', 'MEPE', 'NPPB', 'PRAMEF22', 'LINC00602', 'SAG', 'PRM1', 'SNORD50A', 'C20orf79', 'CLEC4C', 'LCE1B', 'CELA2B', 'FLJ43859', 'PRR23A', 'PPIAL4B', 'C2orf73', 'OR8H1', 'CRHR1', 'OR52K1', 'PGA5', 'TAAR2', 'OR4F17', 'FGF10', 'OR5AU1', 'PCGEM1', 'ZFATAS', 'GCG', 'C17orf98', 'C20orf70', 'SNORD114-4', 'WFDC13', 'ANP32D', 'EIF4E1B', 'SNORD115-16', 'KRTAP6-2', 'NLRP10', 'OR2H2', 'PPP3R2', 'OR7G1', 'SLC10A2', 'FLJ25328', 'LOC145845', 'CRCT1', 'HMHB1', 'VENTXP7', 'OR4K1', 'HTR4', 'NANOGNB', 'OR52I2', 'KRTAP19-5', 'ETHNICITY', 'SNORD116-1', 'DKFZp686A1627', 'PITX3', 'OR10A3', 'TNP1', 'C8orf71', 'SLC36A3', 'PABPC1L2A', 'SNORD7', 'FAM181A', 'SBK2', 'PATE2', 'OR8A1', 'SLCO6A1', 'HBZ', 'GLRA1', 'C15orf5', 'SGCZ', 'CSAG1', 'HDGFL1', 'C3orf24', 'IFNA8', 'NPBWR2', 'LIPN', 'SPEM1', 'LCE1C', 'GPRC6A', 'BRS3', 'PIP', 'IFNA5', 'GJD4', 'PMCHL2', 'HIST3H3', 'AJCC_PATHOLOGIC_TUMOR_STAGE', 'OR10K1', 'TFAMP1', 'RBMY2FP', 'BPIL2', 'PRAMEF1', 'OR8J3', 'HYAL4', 'PWRN2', 'ZIC4', 'SNORD59A', 'KRTAP19-4', 'TTTY17A', 'FAM183B', 'ACSM2A', 'CBWD5', 'FAM74A4', 'WFDC6', 'SNORD114-21', 'SNORD115-25', 'SNORD114-13', 'TPTE2P3', 'BOLL', 'SNORD12B', 'YIPF7', 'CER1', 'OR1J1', 'OTX2', 'SPRYD5', 'CYMP', 'LINC01098', 'OR2F1', 'ABCC12', 'SNORA5C', 'P2RY4', 'TMCO5A', 'PRR20B', 'IL22', 'SNORD19B', 'SNORA2B', 'GABRA3', 'SLC2A2', 'FOXB1', 'TEDDM1', 'TEX13B', 'SNORD115-14', 'IFNA2', 'FCN2', 'TMPRSS12', 'OR8K1', 'CLDN25', 'POU3F4', 'SNORA42', 'XAGE5', 'GRM7', 'C5orf48', 'LOC100271832', 'SNORD96B', 'OTOR', 'SPAG6', 'PSG2', 'SNORD18A', 'TAS1R2', 'SLC22A12', 'KRT35', 'OR2T2', 'BHLHE22-AS1', 'GLB1L3', 'ZNF705A', 'RIPPLY2', 'OR1E2', 'RNASE13', 'OR8H3', 'TEX36-AS1', 'OR10Q1', 'CGB1', 'DKFZp434L192', 'OR2M1P', 'RGPD8', 'MAB21L1', 'RPS4Y2', 'H1FNT', 'DEFB119', 'ATXN8OS', 'OR10T2', 'ACER1', 'FLJ44082', 'OR4B1', 'HRK', 'SNORA64', 'DGKK', 'ZP4', 'SLC6A19', 'C12orf39', 'OR10J3', 'C3orf27', 'TRPC5', 'KRTAP20-4', 'TTTY3B', 'UGT1A8', 'TRPM1', 'ZPLD1', 'C11orf64', 'C10orf53', 'OR8U1', 'OR6C70', 'NAP1L6', 'NEUROD4', 'KRTAP5-3', 'PTH2', 'GPR101', 'GLTPD2', 'ZSCAN4', 'PROL1', 'OR51G1', 'NCRNA00159', 'OR10A2', 'KIAA0408', 'FAM9A', 'SNORA46', 'KRT85', 'CNGB3', 'ZNF679', 'OR2T1', 'DEFB131', 'LHCGR', 'MYT1L-AS1', 'CEACAM18', 'KRT9', 'C1orf129', 'ADCY8', 'NRG3', 'SHOX', 'TCF23', 'BTF3L1', 'SNORD21', 'OR4X1', 'NCRNA00230B', 'RPL23AP32', 'GALR1', 'MMP20', 'C1orf150', 'DLK1', 'LOC145474', 'NEU2', 'HOXD12', 'LOC642929', 'SERPINI2', 'ARPP21', 'C16orf92', 'OR5K2', 'OR5L1', 'HMX1', 'SNORD42A', 'GFRAL', 'SLC17A3', 'NPBWR1', 'CNTN6', 'ACADL', 'SNORD114-12', 'SPATA4', 'INSL6', 'MAGEB18', 'OR5H1', 'ARGFX', 'ST8SIA3', 'LHX1', 'LGI1', 'SNORA70C', 'HS3ST4', 'NKX2-5', 'NR0B1', 'CT45A2', 'HAO2', 'OR2T27', 'PATE4', 'NCRNA00028', 'CT47B1', 'CSPG4P2Y', 'NXF4', 'GAGE8', 'C14orf165', 'KRTAP10-5', 'P2RX6P', 'IFLTD1', 'OR5A2', 'KRT32', 'FEV', 'GAGE2A', 'OR8K5', 'OR5AS1', 'HYALP1', 'C6orf127', 'SNORD42B', 'OR51T1', 'MGC15885', 'SNORA31', 'STRA8', 'PRLH', 'UGT1A7', 'TTTY6', 'OR5T2', 'SCARNA22', 'OR13C8', 'LOC285194', 'FAM170B', 'SUN3', 'LHX5', 'KCNK16', 'PYDC2', 'TAS2R50', 'PRAMEF3', 'ANKRD30A', 'LECT1', 'C13orf39', 'MTNR1B', 'CFHR4', 'KDM5D', 'ART1', 'C4orf11', 'SNORD81', 'TTTY16', 'OR11L1', 'LOC285696', 'OLFM3', 'OR1L6', 'CT45A5', 'RAB9BP1', 'FKSG29', 'OR6Y1', 'UCP1', 'CNTNAP5', 'LINC00552', 'CTAG2', 'FLJ43950', 'CCDC140', 'SNORD59B', 'TAAR1', 'PGK2', 'OR13G1', 'PDZD9', 'ANGPTL3', 'LUZP4', 'NR2E1', 'DEFB116', 'FTMT', 'CT47A10', 'DMRTB1', 'LINC00661', 'PANX3', 'SNORD115-3', 'LIPM', 'SPO11', 'KRTAP1-1', 'C2orf71', 'KRTAP23-1', 'CCT8L2', 'C18orf26', 'KRTAP9-4', 'PRSS40A', 'OR4D2', 'GABRA6', 'XKRY2', 'OR14I1', 'OR2G3', 'HBE1', 'RLN3', 'DMRTC1', 'SOX1', 'LOC729609', 'MGC27382', 'GPR144', 'AGXT2L1', 'NCRNA00185', 'RBMY1F', 'C16orf78', 'ANKRD31', 'IL5', 'TTTY19', 'GUSBP19', 'MAPT-IT1', 'SNORD104', 'SNORD2', 'PAX1', 'OR4K15', 'SNAR-H', 'OR51B6', 'BEYLA', 'KCNA4', 'ATP4A', 'DYTN', 'SNORD116-24', 'OR6C65', 'GCM2', 'INSL4', 'HTN1', 'PNPLA5', 'TMPRSS11A', 'MC5R', 'TAS2R42', 'OR13C4', 'TEX15', 'CT45A4', 'CLRN2', 'GABRQ', 'SNORA80', 'PSAPL1', 'PRM2', 'OR2T34', 'OR52E4', 'ANKRD26P3', 'CALHM1', 'KRTAP27-1', 'C10orf129', 'SPINT3', 'SNORD65', 'CTXN3', 'OR8G5', 'LINC01300', 'RBMY1B', 'RBP3', 'SNORA35', 'DGAT2L6', 'SNORD113-9', 'DEFB126', 'PADI6', 'LOC100133893', 'CCDC63', 'TPPP2', 'OR56A1', 'ACTRT2', 'SLC25A48-AS1', 'KRTAP12-4', 'OR52J3', 'SLC7A13', 'KRTAP10-7', 'CELA3A', 'SNORD110', 'OR5D18', 'SNORD78', 'SNORA13', 'SDC4P', 'OR2A25', 'C15orf54', 'PRDM7', 'COL20A1', 'C2orf83', 'SNORD84', 'TBC1D26', 'RXFP3', 'MRGPRX1', 'GPR6', 'AGTR2', 'CYP7A1', 'TTLL8', 'LY86-AS1', 'GUCA1C', 'BNC1', 'HTA', 'SNORA28', 'ABRA', 'MMP26', 'TEX12', 'SLC2A7', 'CHRND', 'SMR3A', 'OR1L1', 'SPHKAP', 'CXorf1', 'NCRNA00200', 'SIX6', 'FAM74A1', 'TRIM71', 'MYOD1', 'FBXW12', 'PRR20D', 'OR3A4', 'COX8C', 'LOC100130264', 'F13B', 'SNORD113-5', 'FGF4', 'LCE2C', 'CNPY1', 'SNORD115-8', 'OCM2', 'HSFX1', 'SNORD114-30', 'METTL11B', 'C3orf51', 'C2orf78', 'OR2J3', 'FAM27B', 'ADAM2', 'RGS21', 'IQCF5', 'RIT2', 'SNORD18B', 'BCAR4', 'SPRR2E', 'IRS4', 'FLJ30679', 'LOC646813', 'TSHB', 'CFHR5', 'OPRM1', 'SSX1', 'PVALEF', 'NYX', 'PKD2L2', 'ASB10', 'POTEB', 'SNORD66', 'OR52W1', 'DNMT3L', 'GOT1L1', 'KRTAP13-2', 'KRTAP15-1', 'KRT74', 'DNAJC5G', 'UBQLN3', 'OR13C2', 'COX6A2', 'CRYBA1', 'MRGPRX2', 'RNU6ATAC', 'GAGE2C', 'IL17F', 'C1orf200', 'SERPINB13', 'CD5L', 'FAM194B', 'SSX2', 'HTR3C', 'LOC284798', 'PRDM14', 'OR2D2', 'COL29A1', 'GOLGA6A', 'LCE2D', 'SNORD116-8', 'KCTD8', 'KRTAP5-11', 'FAM180B', 'KRTAP4-3', 'FRMPD4', 'HMGB4', 'DEFB129', 'LIN28B', 'TECRL', 'OR10H5', 'CARTPT', 'MRGPRE', 'SYCP3', 'KRTAP13-3', 'SNORA77', 'SNORA26', 'OACYLP', 'OR8H2', 'SERPINB12', 'CYP3A43', 'ALX1', 'AMELY', 'PACRG-AS1', 'HBG1', 'GRM5P1', 'SYT16', 'C12orf71', 'WFDC5', 'FAM138D', 'LINC02085', 'BSND', 'KHDC1L', 'C16orf73', 'OR2L3', 'OVCH2', 'VN1R5', 'PNLIPRP1', 'POTEA', 'OR9I1', 'SNORD114-23', 'SNORD56', 'OR4A16', 'ASB5', 'RBPJL', 'FEZF2', 'MPPED1', 'NR5A1', 'C6orf218', 'KRTAP1-3', 'CAV3', 'OR4C15', 'LRRTM3', 'SLFN14', 'C1orf111', 'SNORD44', 'C3orf74', 'FLJ37543', 'PRG3', 'AAA1', 'TLX1NB', 'HSF5', 'LINC02433', 'OR10G4', 'FAM163B', 'SLC22A25', 'DSC1', 'RPL13AP17', 'SNORD31', 'C7orf4', 'GLT6D1', 'BSX', 'TTTY8', 'ELSPBP1', 'MLN', 'RHO', 'DEFB114', 'HSFYL1', 'RNU5E', 'CAPZA3', 'OR8G2', 'LYZL1', 'WDR69', 'AKAIN1', 'TRPC7', 'DDX25', 'CLPS', 'DEFB115', 'UGT2B28', 'GOLGA6D', 'FUT9', 'OR51L1', 'FAM47C', 'LINC00592', 'SNORD75', 'PENK', 'RBMY3AP', 'FGF6', 'BMP10', 'DCD', 'H2BFWT', 'GPX6', 'C7orf16', 'HTR2C', 'EZHIP', 'FLJ43860', 'OR4F21', 'CSHL1', 'OR2T8', 'SSX5', 'TLX3', 'OR5E1P', 'DEFB136', 'OR6Q1', 'MMP21', 'SNORD115-35', 'ODF1', 'SNORD91B', 'NOX3', 'PPP1R2P9', 'GUCY2F', 'SUN5', 'C1QL2', 'DSPP', 'FIGLA', 'SCARNA15', 'OR3A2', 'MT1B', 'ADAM30', 'LCE1F', 'SNORD115-2', 'KLK9', 'C14orf39', 'APOA5', 'C6orf191', 'KRTAP19-6', 'ASAP1-IT1', 'PLAC1L', 'C9orf170', 'SNORD16', 'ART4', 'SOHLH1', 'ACCSL', 'OR5M9', 'GAGE12F', 'TMPRSS11F', 'SNORA54', 'DDI1', 'NCRNA00207', 'GALNTL5', 'SNORD89', 'FETUB', 'NHEG1', 'FAM170A', 'SNORD115-31', 'PRHOXNB', 'KRTAP10-9', 'LINC00705', 'TNR', 'FSD2', 'SPP2', 'TSPY1', 'FOXR1', 'SNORD114-10', 'OR1B1', 'GNAT3', 'DEFB107A', 'HAO1', 'NOBOX', 'LINC01734', 'CEACAM20', 'C3orf48', 'TAS2R8', 'TRIM49', 'MYF6', 'SNORA37', 'SNORD114-26', 'FAM153B', 'OR1S1', 'OR52H1', 'SERPINE3', 'OR1F2P', 'LOC100129055', 'ZFP91-CNTF', 'SNORD52', 'IFNA21', 'SNORD115-1', 'MGC2889', 'OR52B4', 'OR4K17', 'OR4C12', 'PRR23B', 'OR51A7', 'NEUROD6', 'RPTN', 'OR5B21', 'HEATR7B2', 'CELA1', 'DUX4L1', 'RNU4ATAC', 'C14orf180', 'ACSM2B', 'OR5H14', 'CCDC144NL', 'MYT1L', 'SPANXN1', 'UBTFL1', 'C3orf30', 'CMA1', 'AKR1CL1', 'OR4C11', 'SNORD68', 'TCEB3B', 'SNORA36A', 'SNORA24', 'TTTY14', 'SMCP', 'CACNG1', 'C6orf146', 'OR51M1', 'BEND2', 'SNORA5B', 'AMBN', 'HBBP1', 'OR4F5', 'OR10AG1', 'OR7G2', 'OTUD6A', 'VHLL', 'LINC00442', 'PRB2', 'AFM', 'FAM41AY1', 'LINC00486', 'OR2S2', 'CT45A3', 'SLCO1B1', 'KRTAP10-1', 'FAM47B', 'USP9Y', 'UTY', 'ZNF804B', 'NXPH2', 'C20orf185', 'TGIF2LX', 'NCRNA00119', 'OR12D2', 'SLC5A7', 'PRAC', 'TRYX3', 'MIR205HG', 'NR1H4', 'PROKR1', 'MIR124-1HG', 'CD300LD', 'RGSL1', 'LOC392196', 'OR52E2', 'LOC285733', 'NCRNA00189', 'OR4D10', 'C13orf26', 'GKN1', 'C9orf4', 'HIGD1C', 'TXNDC2', 'PAQR9', 'OR11H4', 'SNORD90', 'ZIM2', 'CALML5', 'LINC00643', 'IFNA16', 'IRX1', 'SNORD109B', 'PLSCR5', 'ATXN3L', 'KRTAP12-3', 'SCGB1D1', 'TMEM30C', 'SNORD88C', 'FGF22', 'OR2G2', 'SNORD123', 'C22orf42', 'TAS2R40', 'LENEP', 'RFX6', 'SCARNA20', 'OR6K6', 'ZPBP', 'SNORD105', 'KRT3', 'TEX28', 'IL1F5', 'OR10A5', 'PLAC9P1', 'C11orf40', 'OR52N1', 'SNORD54', 'GLRA4', 'FBXL21', 'SULT2A1', 'OR4P4', 'C15orf43', 'TUBA3C', 'KNCN', 'MAGEC3', 'GDEP', 'PDE6C', 'C14orf70', 'ARG1', 'C6orf25', 'SNORA11C', 'KRT72', 'DPPA2P3', 'C20orf191', 'OR52R1', 'OR11H12', 'LINC02685', 'OR4Q3', 'PATE3', 'LINC01142', 'ABCB11', 'SNORA78', 'RFPL4B', 'RAPGEF4-AS1', 'IL1F10', 'CCDC79', 'GAD2', 'OTP', 'CIDEA', 'TBX22', 'ASB18', 'MDGA2', 'TPD52L3', 'ANKRD66', 'WFDC12', 'TFDP3', 'SNORA47', 'NCAN', 'OR5D13', 'LINC00635', 'TMIGD1', 'OR10C1', 'QRFPR', 'CADM2', 'FLJ34503', 'GJD2', 'INSM2', 'DAZ2', 'LINC03019', 'KLHL1', 'KRTAP20-2', 'C11orf85', 'SNORD116-12', 'DEFB104A', 'KRT84', 'POTEG', 'KRT82', 'HIST1H4F', 'C8orf74', 'GOLGA8E', 'GABRG1', 'CARD17', 'CLEC3A', 'NLRP13', 'OR4C45', 'LINC00928', 'ASB11', 'MS4A5', 'IL1RAPL1', 'KRTAP20-3', 'C1orf146', 'SNORD72', 'C18orf62', 'LCE2B', 'KRT24', 'PRSS37', 'SNORD116-10', 'RNASE8', 'OR10G8', 'OR1A1', 'OVCH1', 'KRT33B', 'ACTRT1', 'LINC01257', 'CLEC1B', 'DHRS7C', 'SNORD36A', 'OR11A1', 'C4orf40', 'OR2T29', 'PRLHR', 'TRHDE-AS1', 'C5orf47', 'GLP1R', 'PPIAL4E', 'DEFB109P1B', 'DEC1', 'MAGEA1', 'FAM26D', 'OR1M1', 'C10orf122', 'GLIPR1L1', 'WFDC9', 'OR2C3', 'RAX', 'SNORA11D', 'PNLIPRP2', 'SNORD47', 'SNORD116-25', 'ACCN5', 'TTTY11', 'SNORD95', 'LPPR5', 'KRT18P55', 'SNORD12', 'HIST1H1A', 'RNF151', 'SNORA1', 'TMSB4Y', 'ZNF716', 'PSKH2', 'C3P1', 'ADH7', 'CPXCR1', 'OR4C16', 'OR2Z1', 'CLVS2', 'TTTY21', 'OR9G4', 'C15orf32', 'SNORA75', 'GUCA2A', 'IL1F8', 'GAGE12D', 'PGPEP1L', 'OR7C1', 'KCTD4', 'LEUTX', 'OR2T11', 'FAM46D', 'PSG10', 'MAFA', 'CCDC42', 'TBC1D29', 'KLHL33', 'DAD1L', 'HIST1H2BB', 'OR5J2', 'RTP3', 'CSAG2', 'SNORA9', 'MC3R', 'NCRNA00114', 'SPRR2C', 'SPATA22', 'C2orf53', 'TMPRSS15', 'NCRNA00051', 'S100A7L2', 'POU1F1', 'DAZL', 'CYP4F8', 'ONECUT3', 'OR2L8', 'OR3A3', 'FABP7', 'SCARNA1', 'OR1Q1', 'OR4E2', 'CXorf64', 'LCE5A', 'NETO1', 'SCARNA3', 'SNORA20', 'PATH_N_STAGE', 'ADAM21P1', 'LINC02249', 'CDY2B', 'SNORD115-37', 'OR2B2', 'ACTL6B', 'C11orf34', 'TGM6', 'VCX2', 'MGC34034', 'AWAT1', 'RPRML', 'FMO6P', 'NEUROD1', 'TMEM132D', 'OR7E5P', 'C8orf22', 'OLIG2', 'OR13C5', 'OR1J2', 'GSG1', 'INS', 'PLA2G2C', 'MT4', 'SNORD63', 'C12orf40', 'TGIF2LY', 'MBD3L2', 'SPAG11B', 'SPAM1', 'SNORD114-25', 'PRODH2', 'IFNA17', 'FAM9C', 'FAM25A', 'C7orf69', 'TMEM229A', 'FRMD7', 'OR5V1', 'KRTAP13-4', 'VSX1', 'TGM7', 'GPR12', 'OR52E8', 'ZAR1', 'SNORD20', 'TCP10L2', 'CHRNA9', 'CFHR2', 'UBE2DNL', 'SNORD115-41', 'PRR21', 'FOXI3', 'GYS2', 'C9orf27', 'C10orf96', 'CLEC12B', 'C14orf23', 'OR4S1', 'FABP12', 'TAS2R13', 'OR2T5', 'C4orf26', 'FOXR2', 'RHOXF2B', 'C4orf50', 'SNORD38A', 'SEMG1', 'ADAM29', 'LINC00710', 'GMNC', 'LRRC30', 'TTTY12', 'C6orf195', 'NKX6-3', 'SNORD15A', 'SNORD51', 'OR1K1', 'SLC6A5', 'IL21', 'HIST1H2AA', 'ZFY', 'SERPINB11', 'OR10AD1', 'GBX1', 'LOC100132831', 'OR13D1', 'TBC1D3P2', 'KCNB2', 'IL4', 'PRSS41', 'CLEC19A', 'CYorf15B', 'CYP11B2', 'NEUROG1', 'ASB15', 'GALP', 'RBMY2EP', 'CCDC54', 'SNORA71D', 'LINC02203', 'SNAR-E', 'HCRTR2', 'MIMT1', 'OR2J2', 'PRAMEF18', 'FABP9', 'SPRR2G', 'HBII-52-28', 'GKN2', 'OR2M4', 'IQCJ', 'FRG2DP', 'RGPD4-AS1', 'LCE6A', 'GDF2', 'SNORD116-14', 'OR5K3', 'KRTAP9-8', 'PCDHB1', 'OR10H4', 'SPATA8', 'LINC01566', 'SNORA69', 'IFNA4', 'IFITM5', 'CCK', 'PPBPP1', 'SNORA14B', 'LCE3E', 'CDX4', 'CDH19', 'KRTAP4-5', 'SPINK13', 'SNORA30', 'OR2M5', 'KCNJ6', 'HOXC13', 'MS4A12', 'TYR', 'KCNS2', 'LCE2A', 'ZPBP2', 'TRIM75P', 'OR10H3', 'SNORD114-14', 'GSTTP1', 'KRTAP10-4', 'UGT1A3', 'OR8B8', 'TTTY4C', 'CRLF2', 'SLC22A7', 'OR4F29', 'UMOD', 'PAGE5', 'KRTAP12-2', 'GDPD4', 'OR4X2', 'SNORD116-19', 'UGT1A1', 'DCAF4L2', 'CASP14', 'LOC285847', 'VSTM2A', 'OR11H1', 'CACNG5', 'ONECUT1', 'OR4N5', 'VCY', 'GRK1', 'LHX8', 'CXorf66', 'OR6N1', 'HHATL', 'SNORA66', 'OR9A4', 'DNAJC25-GNG10', 'HMX3', 'SPACA5', 'BLID', 'GPHB5', 'C4orf51', 'AADACL4', 'DAZ3', 'CHAT', 'PSG11', 'TAS2R43', 'ADIPOQ', 'SNORD69', 'KRT77', 'FAM153C', 'SNORD35A', 'CRHR2', 'OR1G1', 'SNORD116-18', 'SNAR-A2', 'C21orf96', 'MYL1', 'C8B', 'DEFA4', 'HCG22', 'C15orf60', 'KCNV1', 'TAS2R9', 'GLYCAM1', 'GRXCR1', 'OR5H15', 'LALBA', 'HMGB3L1', 'LECT2', 'RNU11', 'AOX2P', 'SNORA19', 'PRR23C', 'RNASE12', 'OR1L8', 'OR2A12', 'LCE3D', 'G6PC2', 'SNORA16B', 'OR10R2', 'OR13C9', 'C1orf141', 'DUX4L6', 'NKX2-4', 'NMBR', 'SCARNA4', 'RPL3L', 'BET3L', 'PRAMEF2', 'RNY4', 'C1orf105', 'KRTAP4-12', 'FGF16', 'CXorf27', 'VTRNA1-2', 'SNORD114-9', 'LOC150622', 'MYH8', 'USP29', 'NPY6R', 'C1orf100', 'C7orf66', 'TBL1Y', 'SNORA22', 'NKX6-2', 'SNORA48', 'USP17', 'GAGE10', 'LCN6', 'C6orf221', 'DAZ1', 'CABP2', 'PPY', 'C4orf35', 'C7orf65', 'HBM', 'PRIMARY_LYMPH_NODE_PRESENTATION_ASSESSMENT', 'FSHR', 'DCAF12L1', 'KRT71', 'CT45A1', 'TCEB3C', 'OR52A4', 'GPR151', 'LOC284379', 'PRTN3', 'HTR3B', 'SNORD121B', 'TMEM8C', 'C10orf27', 'FOXD3', 'NPS', 'LRRC10', 'PSG3', 'IMP5', 'STATH', 'FAM71C', 'C1orf94', 'IFIT1B', 'PATH_T_STAGE', 'GPR61', 'PRR25', 'SNORD114-5', 'SPINK6', 'RSU1P2', 'PATH_M_STAGE', 'DEFB109P1', 'FSCB', 'FAM138F', 'PMP2', 'KRTAP10-6', 'TMEM189-UBE2V1', 'NKAIN3-2-of-2', 'MTVR2', 'SLC6A11', 'SNORD1A', 'MRGPRD', 'LOC154449', 'KIR3DL3', 'NLRP8', 'TMCO2', 'PNLIPRP3', 'C10orf113', 'GPR123', 'DCT', 'SNORD124', 'SPINT4', 'PLGLA', 'OR51D1', 'DEFB106A', 'ZFP42', 'C9orf79', 'FAM138E', 'ANKRD30B', 'SNORA70B', 'PRO1768', 'FLJ40434', 'RNASE9', 'KRTAP4-4', 'GAL3ST3', 'RTP2', 'NDST4', 'MEG8', 'OPN5', 'SNORD45A', 'PRSS54', 'CLDN19', 'PRDM9', 'RAD21L1', 'DSCR8', 'P2RX3', 'FAM19A4', 'C8orf12', 'SDR9C7', 'LOC284788', 'BSPH1', 'C12orf54', 'OR8D4', 'TFAP2D', 'ODF4', 'OR7A5', 'THEG', 'PEG3AS', 'SNORD11', 'TMEM179', 'OR52I1', 'AQP10', 'WFDC8', 'C15orf53', 'RNASE11', 'TTTY22', 'OR4N4', 'SPANXN3', 'HELT', 'GSTA5', 'HRG', 'SNORD116-26', 'LINC01020', 'FMO9P', 'TAS2R1', 'OR6K2', 'CATSPER4', 'SNORD114-15', 'C17orf74', 'REG1P', 'OR10K2', 'OR1I1', 'ACMSD', 'HTR3D', 'OR5C1', 'C9orf106', 'FOXE1', 'ARL5C', 'TAS2R3', 'NXNL1', 'XKR3', 'OR4D11', 'OR6A2', 'LINC01591', 'SLC32A1', 'CLDN17', 'CDY1B', 'OR52A5', 'CACNG7', 'ARL13A', 'GTSF1L', 'OR52B2', 'LCE3B', 'SPDYE4', 'PLA2G2E', 'LYPD8', 'UGT1A5', 'POM121L2', 'PRB1', 'GPR78', 'OR5P2', 'GPR139', 'OR2A2', 'SFTPC', 'FGF23', 'SNORD98', 'ZAN', 'TAAR6', 'AMAC1L3', 'LOC286359', 'SNORD114-11', 'CHIAP2', 'TSNAX-DISC1', 'GSTTP2', 'G6PC', 'C17orf54', 'CALR3', 'OR2T12', 'GNG8', 'STMN4', 'CT47A1', 'OR52E6', 'CLEC2A', '391343', 'OR52D1', 'MRGPRX3', 'SNORD114-1', 'SNORD115-22', 'HBII-52-24', 'TRIM60', '553137', 'PHOX2A', 'HORMAD2', 'SLC22A9', 'SNORA14A', 'GHRHR', 'OR5L2', 'DEFB134', 'ANXA8L1', 'DSCAM', 'RNF113B', 'C14orf86', 'SNORD115-7', '100130426', 'BRDTP1', 'PSG6', 'MAGEB3', 'PSMA8', 'SERPINB4', 'MRGPRG', 'DISC2', 'PAGE4', 'OR4S2', 'KRTAP8-1', 'MMD2', 'LRTM1', 'FLJ36000', 'PRAMEF11', 'OR6C1', 'C14orf53', 'C10orf50', 'CIB3', 'PDYN', 'KRTAP5-6', 'NPY5R', 'SNORD82', 'OR2AT4', 'CPLX4', 'NANOS2', 'OR4F6', 'MUC7', 'HCRTR1', 'SNORA36C', 'FAM74A3', 'MAGEA4', 'MMP27', 'MYH2', 'DEFB110', 'TMEM114', 'CDH10', 'ZIC3', 'C1orf227', 'ASFMR1', 'LIPI', 'GPX5', 'AKR1D1', 'SERPINA12', 'SNORD53', 'OR6P1', 'UNCX', 'C17orf105', 'NKX2-8', 'CYP2C19', 'MYF5', 'DYDC1', 'LCN9', 'VSX2', 'TSSK2', 'CACNG8', 'GPHA2', 'SNORA51', 'UBE2U', 'CCL3L3', 'EPHA5', 'OR52L1', 'SCGB1D4', 'LOC100240734', 'PWRN1', 'CYP11B1', 'C3orf20', 'LCE1A', 'PPY2', 'TMEM95', 'SNORD70', 'SNORD26', 'NCRNA00112', 'SLC22A10', 'LYPD4', 'SNORD115-40', 'LOC100287704', 'SNORD103A', 'APOF', 'OR2T33', 'LOC286238', 'SNORD32B', 'OR2B3', 'DNTT', 'OPTC', 'OR10A7', 'KRTAP10-12', 'WFDC11', 'OR2AG2', 'KRTAP6-3', 'KCNA1', 'SNORD71', 'OC90', 'FAM47A', 'BTBD17', 'C3orf43', 'SNORA71B', 'FAM71A', 'IL2', 'NCR2', 'C13orf28', 'SNORD127', 'F11', 'IQCF3', 'SORCS3', 'SYT14L', 'HIST1H2BA', 'SNORD36B', 'TAS2R10', 'SLC17A1', 'SSX7', 'SAA3P', 'C6orf94', 'SPATA16', 'C15orf50', 'HTR5A', 'C19orf75', 'DIRC1', 'SPANXN2', 'POU3F2', 'ACTL9', 'KRT38', 'DEFB103A', 'IL28A', 'NCRNA00113', 'ACTL7B', 'SEC14L3', 'TDH', 'OR4C46', 'SNORD115-5', 'OR10W1', 'OR5AC2', 'IRX4', 'PROKR2', 'SNORD111B', 'OR5M8', 'SMYD1', 'ZIM3', 'OR1J4', 'OR6M1', 'SNORD116-15', 'A4GNT', 'SCARNA8', 'MAGEA9B', 'CDY1', 'SPINK9', 'OR2AK2', 'OR1D2', 'C8orf86', 'SPRR2B', 'OR10J1', 'RBM46', 'PSG8', 'LMOD2', 'ZCCHC13', 'KRTAP4-11', 'TMEM225', 'HES3', 'NXF2B', 'POU4F2', 'SNORD38B', 'KRTAP4-9', 'SPAG11A', 'TTTY1B', 'LINC02112', 'GABRA4', 'SNORD116-22', 'SLC22A8', 'LINC01777', 'ARSF', 'KRTDAP', 'OR51F2', 'GOLGA8F', 'FMR1NB', 'SAMD7', 'FRG2', 'SULT1C3', 'SNORD116-11', 'PCDH15', 'SOST', 'PAGE2', 'MAGEB4', 'OR51V1', 'C6orf10', 'LYZL4', 'GAGE4', 'OLIG3', 'MAGEC2', 'HPYR1', 'LOC100133920', 'UGT2B11', 'DCAF8L2', 'DEFB123', 'LIPK', 'PRKACG', 'CST9', 'UTF1', 'OR2T35', 'OSTN', 'HEMGN', 'DEFB127', 'OR4A5', 'IFNA6', 'PAX3', 'TEKT1', 'OR5AN1', 'LCE1E', 'SNORD9', 'SLC17A6', 'C9orf11', 'RFPL3', 'ANKRD18DP', 'POU3F3', 'C19orf34', 'MAGEC1', 'OR1N2', 'PWAR4', 'SNORD96A', 'TRIM48', 'C2orf14', 'OTOP3', 'KRT73', 'EIF1AY', 'SNORD114-31', 'BPESC1', 'RBMY1A1', 'OR4M1', 'HMSD', 'SNORD125', 'STON1-GTF2A1L', 'PHGR1', 'LHX3', 'IL17A', 'KRTAP9-2', 'PSG5', 'KRTAP4-8', 'TSG1', 'DMRTC2', 'IVL', 'KRT17P5', 'GML', 'OR4C13', 'DEFB121', 'LINC00691', 'SCARNA21', 'LOC100192379', 'LOC100129935', 'OR56A5', 'FAM138B', 'LOC729467', 'LINC01634', 'SI', 'CT45A6', 'C9orf144B', 'UGT2B4', 'TTTY23', 'FCRL4', 'SNORD87', 'OR52N2', 'SSTR4', 'GPR52', 'USP26', 'KIR3DP1', 'OR5P3', 'TXNDC8', 'BANF2', 'TBX5', 'SNORD113-2', 'NLRP14', 'SNORD111', 'SNORA15', 'LOC100192426', 'LRIT1', 'OR5H2', 'OR5AK2', 'PER4', 'HSFY2', 'FSTL5', 'KCNQ1DN', 'C17orf88', 'TMEM235', 'C14orf183', 'CHRM2', 'IFNA7', 'EVX2', 'KRTAP10-10', 'CT47A9', 'CT47A7', 'SNORD34', 'PAX4', 'GLP2R', 'ATP13A5', 'LOC153910', 'ZNF645', 'BTNL2', 'DAOA', 'SEBOX', 'SLC22A24', 'SNORD88A', 'DPYS', 'KRT33A', 'SNORD74', 'PMCHL1', 'C3orf84', 'TMEM247', 'KRTAP10-3', 'LMAN1L', 'OR10A4', 'OR13F1', 'CT47A11', 'C19orf41', 'POTED', 'UGT3A1', 'MUSK', 'C4orf17', 'APOC3', 'KCNC2', 'PRNT', 'SNORD35B', 'OR2M3', 'SCTR', 'DEFB124', 'LRRC67', 'UTS2R', 'KRTAP3-3', 'VGLL2', 'SNORD113-4', 'FBXO47', 'XAGE2', 'SNAR-I', 'GLYAT', 'GUCY2E', 'MYOZ2', 'PRSSL1', 'SLC22A2', 'OR10G2', 'EPGN', 'NKX2-1', 'PSG7', 'HEPACAM', 'KRTAP21-1', 'NLRP5', 'LINC00620', 'SNORA4', 'TAAR8', 'GRID2', 'SNORD115-38', 'KRT28', 'LINC01102', 'SNORD115-33', 'OR4K14', 'NOTO', 'GH2', 'ADAD1', 'NT5C1A', 'SNORA34', 'POM121L12', 'FAM27L', 'SOX3', 'KRT39', 'SNORD116-27', 'FAM25B', 'EDDM3A', 'KRT27', 'LCE3A', 'HAND1', 'FTLP10', 'ZAR1L', 'MCHR2', 'IFNA1', 'KDM4DL', 'SLC7A14', 'OR4D1', 'C22orf33', 'ALX4', 'SNORD85', 'RBMY1A3P', 'HES7', 'TTTY17B', 'FOXI2', 'CYCSP52', 'RSPH6A', 'HSPC072', 'PPIAP80', 'OR5AR1', 'HSD3B1', 'GNAO1-DT', 'OR51B5', 'C2orf57', 'CLRN1OS', 'LINC01205', 'C16orf11', 'TCL1B', 'OPN1LW', 'SNORD58A', 'FTHL17', 'OR5B3', 'SNORD50B', 'SLC25A31', 'GP9', 'C2orf85', 'SNORD117', 'UOX', 'IFITM4P', 'TRHR', 'MAGEB16', 'EDDM3B', 'PRAMEF6', 'FAM71B', 'OR51B2', 'CST9L', 'MYL2', 'TAAR5', 'CMTM5', 'INSL5', 'POTEH', 'LOC644669', 'KRT25', 'OR5D16', 'SPINK14', 'OR1L4', 'MAGEB10', 'OR4C6', 'GABRG3', 'SNAR-B2', 'CST5', 'OR7D4', 'BAGE', 'DEFB125', 'MYH1', 'SNAR-D', 'TAS2R30', 'RAX2', 'KRTAP5-7', 'GATA3-AS1', 'SLC17A2', 'VN1R2', 'SNAR-G1', 'BARHL2', 'C13orf35', 'NCRNA00160', 'XAGE3', 'MORC1', 'C16orf90', 'SYT4', 'CSTT', 'SNORD115-30', 'GLYATL3', 'RALYL', 'TREML4', 'PRB4', 'KRTAP4-7', 'H1FOO', 'SFTA1P', 'EN1', 'OR5B2', 'TMEM202', 'MRGPRX4', 'MS4A3', 'PPP1R3A', 'SNORA38B', 'FAM92A3', 'LIN28A', 'KIF2B', 'MAGEA8', 'ASB17', 'DKFZp566F0947', 'MBD3L1', 'NPVF', 'HILS1', 'NKX1-2', 'PAGE1', 'SCGB2A2', 'SCGB3A2', 'RGS8', 'FRG2B', 'GPR148', 'OR7A10', 'TAS2R60', 'C5orf40', 'TSPYL6', 'SNORD114-24', 'KRTAP6-1', 'PAGE3', 'MAGEB1', 'TRIM43', 'OR56A3', 'SNORD114-29', 'OR2M2', 'OR6K3', 'LOC100128076', 'CRX', 'PTPRQ', 'PSG4', 'TDRG1', 'SNORD114-3', 'DPPA5', 'UCMA', 'GYPA', 'LCN1', 'KPRP', 'CHRNB3', 'SLC30A8', 'OR2L13', 'LINC02209', 'PRKAG3', 'PTPN20A', 'OR1C1', 'XAGE1D', 'C3orf77', 'SNORD45B', 'ZNF560', 'ACTBL2', 'C3orf22', 'SNORD24', 'PROP1', 'HCG9', 'SNORD114-17', 'RBMY1J', 'TREML2P1', 'C14orf48', 'EPB42', 'SLC1A6', 'KRTAP19-3', 'OR9Q1', 'CGA', 'GSTA3', 'SNORD92', 'OR52N4', '652919', 'PRAMEF13', 'LINC00410', 'C1orf185', 'FERD3L', 'OR51B4', 'SNORA25', 'CYP1A2', 'HIST1H4L', 'SNORD121A', 'SNORD77', 'OR5T3', 'SLITRK3', 'KBTBD13', 'OR2AE1', 'ASZ1', 'OR51I1', 'OR14J1', 'C1orf65', 'KRT2', 'TARM1', 'BRDT', 'OR56B1', 'OR52M1', 'PBOV1', 'MBL2', 'SNORA40', 'SNAR-G2', 'GH1', 'GNAO1-AS1', 'C7orf33', 'ATP1B4', 'BPY2', 'NPHS2', 'F9', 'TAS2R41', 'SIM1', 'TTTY9B', 'SCARNA11', 'ANTXRL', 'SNORD119', 'LINC00917', 'OR5R1', 'S100A7A', 'PRAMEF10', 'LBX1', 'SNORD43', 'RLBP1', 'SCRT2', 'TMEM14E', 'TRIM49L', 'ARR3', 'PRAMEF9', 'VTRNA1-1', 'SLITRK2', 'OR1F1', 'C9orf153', 'GOLGA6C', 'GSX2', 'UGT1A4', 'SMEK3P', 'DEFB118', 'OR5K1', 'GLRA3', 'HBII-52-27', 'MYL10', 'OR4M2', 'RHAG', 'CCDC27', 'HNRNPCL1', 'CRH', 'OR52K2', 'OR5W2', 'OR5F1', 'CRYGD', 'ANKRD7', 'HIST1H4G', 'SATB2-AS1', 'OR4N2', 'AADACL3', 'OR8D1', 'VSTM2B', 'ADAM7', 'SNORD115-26', 'CES7', 'AHSP', 'CT47A2', 'GAGE12J', 'TSPAN16', 'OR2M7', 'KRTAP2-4', 'CARD18', 'OTOL1', 'C20orf186', 'GPR150', 'KRT26', 'KCNA7', 'GK2', 'C20orf141', 'GFRA4', 'SNORD113-1', 'TSPY4', 'SCRT1', 'FAM237A', 'KRTAP9-9', 'SNORD126', 'SERPINB10', 'SNORA55', 'OR4A15', 'DBX1', 'OR4F15', 'NCRNA00162', 'SNORD12C', 'OR6S1', 'TEX13A', 'SNAR-A13', 'DAO', 'PRAMEF8', 'SNORA16A', 'OR5M3', 'C21orf84', 'SNORD114-27', 'LINC00698', 'C14orf177', 'C1orf110', 'CRP', 'DNAJB3', 'AADACL2', 'OR4L1', 'TSPY3', 'PRAMEF4', 'ZSWIM2', 'RNF133', 'POTEC', 'OR2D3', 'FKSG83', 'HEPN1', 'RPE65', 'ZNF705D', 'POU5F2', 'SCGN', 'MYRF-AS1', 'LINC00452', 'PLD5', 'GPR112', 'NGB', 'APOC4', 'TBR1', 'SNORD116-2', 'TAS2R38', 'OR2W5', 'PRAMEF16', 'DRD3', 'KRTAP26-1', 'SDR16C6P', 'MAGEA5', 'KRTAP20-1', 'TMPRSS11BNL', 'C16orf81', 'MARCH11', 'MYH13', 'IFNA10', 'DACH2', 'STH', 'C14orf162', 'SNAR-F', 'LGALS14', 'XIRP2', 'LYPD2', 'LOC648691', 'LINC02800', 'KRTAP2-1', 'CCDC38', 'SNORA84', 'OPN1MW', 'CFHR3', 'DGCR10', 'CPB1', 'VN1R4', 'OR5T1', 'FAM48B1', 'AGBL1', 'C7orf72', 'LOC100240726', 'SNORA29', 'ANXA10', 'SNORD29', 'OR2T3', 'CLRN1', 'ASB4', 'PEX5L', 'DSCR10', 'TRIM77', 'DUPD1', 'C2orf80', 'CRYAA', 'GSX1', 'PABPN1L', 'MAS1', 'IL9', 'XKR7', 'WFDC10A', 'LOR', 'SNORA74B', 'LINC02817', 'CPN2', 'C10orf40', 'C1orf14', 'GAB4', 'NPY', 'TTTY10', 'GC', 'ZNF735', 'TMPRSS11D', 'PLUNC', 'OR8S1', 'ANGPT4', 'CNGA2', 'C20orf173', 'KCNG4', 'MOG', 'KRTAP25-1', 'DEFB128', 'SNORA11B', 'PRAMEF12', 'SNORD114-20', 'SNAR-C4', 'KRTAP19-8', 'PRM3', 'LINC00608', 'FLJ46321', 'GAGE2D', 'TECTB', 'PHOX2B', 'ARHGAP36', 'SPANXC', 'LCE3C', 'SERPINA13', 'CYLC1', 'GAST', 'OR51F1', 'SNORD1B', 'HCRT', 'TRPV5', 'MYL7', 'ADIG', 'CA6', 'GPR158-AS1', 'KRTAP13-1', 'OR6N2', 'CRISP1', 'GHSR', 'POM121L4P', 'DUXA', 'BMP15', 'GCSAML-AS1', 'IFNW1', 'LINC00636', 'DEFB132', 'C10orf120', 'OR7G3', '317712', 'SPINK8', 'BCYRN1', 'DPPA2', 'MAGEB6'}\n"
     ]
    }
   ],
   "source": [
    "# remove the column if over MAX_NULL_VALS percent null values\n",
    "print(\"length before removing null-heavy columns:\", len(X_train.columns))\n",
    "original_column_set = set(X_train.columns)\n",
    "X_train = X_train.dropna(axis=1, thresh=len(X_train) * (1 - config.MAX_NULL_VALS))\n",
    "print(\"length after removing null-heavy columns:\", len(X_train.columns))\n",
    "print(original_column_set - set(X_train.columns)) # checking which columns were removed\n",
    "\n",
    "# remove columns where over 99% of the non-null values are the same\n",
    "X_train = drop_highly_uniform_columns(X_train)\n",
    "\n",
    "\n",
    "# remove non-informational columns\n",
    "X_train = X_train.drop(columns=['OTHER_PATIENT_ID'])"
   ]
  },
  {
   "cell_type": "code",
   "execution_count": 29,
   "metadata": {},
   "outputs": [
    {
     "name": "stdout",
     "output_type": "stream",
     "text": [
      "  NEW_TUMOR_EVENT_AFTER_INITIAL_TREATMENT             DFS_STATUS  \\\n",
      "0                                      No          0:DiseaseFree   \n",
      "1                                      No          0:DiseaseFree   \n",
      "2                                      No  1:Recurred/Progressed   \n",
      "3                                      No                    NaN   \n",
      "4                                      No                    NaN   \n",
      "5                                     Yes          0:DiseaseFree   \n",
      "6                                     Yes  1:Recurred/Progressed   \n",
      "7                                     Yes                    NaN   \n",
      "8                                     NaN          0:DiseaseFree   \n",
      "9                                     NaN  1:Recurred/Progressed   \n",
      "\n",
      "      PFS_STATUS  Count  \n",
      "0     0:CENSORED    258  \n",
      "1  1:PROGRESSION      1  \n",
      "2  1:PROGRESSION     11  \n",
      "3     0:CENSORED     31  \n",
      "4  1:PROGRESSION     11  \n",
      "5  1:PROGRESSION      7  \n",
      "6  1:PROGRESSION     31  \n",
      "7  1:PROGRESSION     26  \n",
      "8     0:CENSORED     17  \n",
      "9  1:PROGRESSION      3  \n",
      "Counter({np.int64(0): 329, np.int64(1): 67})\n"
     ]
    }
   ],
   "source": [
    "# Just used for looking at the data for the labels\n",
    "pair_counts = X_train.groupby([\"NEW_TUMOR_EVENT_AFTER_INITIAL_TREATMENT\", 'DFS_STATUS', \"PFS_STATUS\"], dropna=False).size().reset_index(name='Count')\n",
    "\n",
    "# Print the pairings and the count\n",
    "print(pair_counts)\n",
    "\n",
    "# Removes the 32 rows where we have no recurrance label (neither NEW_TUMOR_EVENT_AFTER_INITIAL_TREATMENT nor DFS_STATUS are known)\n",
    "X_train = X_train.dropna(subset=['DFS_STATUS', 'NEW_TUMOR_EVENT_AFTER_INITIAL_TREATMENT'], how='all')\n",
    "\n",
    "# numpy array for the labels for recurrance\n",
    "labels = np.array(X_train.apply(assign_label, axis=1)) \n",
    "print(Counter(labels))\n"
   ]
  },
  {
   "cell_type": "markdown",
   "metadata": {},
   "source": [
    "Transforms data by changing catagorical data into numerical data and filling in missing data points with medians or modes."
   ]
  },
  {
   "cell_type": "code",
   "execution_count": 30,
   "metadata": {},
   "outputs": [
    {
     "name": "stdout",
     "output_type": "stream",
     "text": [
      "Columns with NaN values:\n",
      "SUBTYPE                                    17\n",
      "AGE                                         1\n",
      "AJCC_STAGING_EDITION                       53\n",
      "DAYS_LAST_FOLLOWUP                         25\n",
      "DAYS_TO_BIRTH                               2\n",
      "NEW_TUMOR_EVENT_AFTER_INITIAL_TREATMENT    20\n",
      "PERSON_NEOPLASM_CANCER_STATUS              18\n",
      "RACE                                       21\n",
      "RADIATION_THERAPY                           3\n",
      "WEIGHT                                     13\n",
      "DSS_STATUS                                  1\n",
      "DFS_STATUS                                 68\n",
      "DFS_MONTHS                                 68\n",
      "dtype: int64\n",
      "\n",
      "Rows with more than 80% the same value in a column:\n",
      "Column: ICD_10\n",
      "  Most frequent value: C54.1\n",
      "  Count: 390/396 (98.5%)\n",
      "  Unique values: 4\n",
      "--------------------------------------------------\n",
      "Column: ICD_O_3_SITE\n",
      "  Most frequent value: C54.1\n",
      "  Count: 390/396 (98.5%)\n",
      "  Unique values: 4\n",
      "--------------------------------------------------\n",
      "Column: PERSON_NEOPLASM_CANCER_STATUS\n",
      "  Most frequent value: Tumor Free\n",
      "  Count: 330/396 (83.3%)\n",
      "  Unique values: 3\n",
      "--------------------------------------------------\n",
      "Column: PRIOR_DX\n",
      "  Most frequent value: No\n",
      "  Count: 369/396 (93.2%)\n",
      "  Unique values: 2\n",
      "--------------------------------------------------\n",
      "Column: IN_PANCANPATHWAYS_FREEZE\n",
      "  Most frequent value: Yes\n",
      "  Count: 379/396 (95.7%)\n",
      "  Unique values: 2\n",
      "--------------------------------------------------\n",
      "Column: OS_STATUS\n",
      "  Most frequent value: 0:LIVING\n",
      "  Count: 333/396 (84.1%)\n",
      "  Unique values: 2\n",
      "--------------------------------------------------\n",
      "Column: DSS_STATUS\n",
      "  Most frequent value: 0:ALIVE OR DEAD TUMOR FREE\n",
      "  Count: 356/396 (89.9%)\n",
      "  Unique values: 3\n",
      "--------------------------------------------------\n",
      "Column: CEACAM8\n",
      "  Most frequent value: -1.0017\n",
      "  Count: 354/396 (89.4%)\n",
      "  Unique values: 42\n",
      "--------------------------------------------------\n",
      "Column: CLCA1\n",
      "  Most frequent value: -0.8033\n",
      "  Count: 327/396 (82.6%)\n",
      "  Unique values: 70\n",
      "--------------------------------------------------\n",
      "Column: REG3A\n",
      "  Most frequent value: -0.8873\n",
      "  Count: 357/396 (90.2%)\n",
      "  Unique values: 40\n",
      "--------------------------------------------------\n",
      "Column: RETNLB\n",
      "  Most frequent value: -1.4843\n",
      "  Count: 328/396 (82.8%)\n",
      "  Unique values: 69\n",
      "--------------------------------------------------\n",
      "Column: ZG16\n",
      "  Most frequent value: -1.3051\n",
      "  Count: 327/396 (82.6%)\n",
      "  Unique values: 69\n",
      "--------------------------------------------------\n"
     ]
    }
   ],
   "source": [
    "# Testing  that pre-processing worked as expected ##########################################################\n",
    "\n",
    "# finding columns with NaN values after dropping some columns and rows\n",
    "nan_counts = X_train.isnull().sum()\n",
    "nonzero_nans = nan_counts[nan_counts > 0]\n",
    "print(\"Columns with NaN values:\")\n",
    "print(nonzero_nans)\n",
    "print(\"\")\n",
    "\n",
    "print(\"Rows with more than 80% the same value in a column:\")\n",
    "def check_dominant_columns(X_train, threshold=0.8):\n",
    "    \"\"\"\n",
    "    Print columns where the most frequent value accounts for at least\n",
    "    `threshold` fraction of the entries.\n",
    "\n",
    "    Parameters\n",
    "    ----------\n",
    "    X_train : pandas DataFrame\n",
    "        The dataset to check.\n",
    "    threshold : float (default=0.8)\n",
    "        Proportion cutoff for dominance.\n",
    "    \"\"\"\n",
    "    n_rows = len(X_train)\n",
    "    for col in X_train.columns:\n",
    "        # Get the most frequent value count\n",
    "        top_value_count = X_train[col].value_counts(dropna=False).iloc[0]\n",
    "        proportion = top_value_count / n_rows\n",
    "\n",
    "        if proportion >= threshold:\n",
    "            top_value = X_train[col].value_counts(dropna=False).idxmax()\n",
    "            print(f\"Column: {col}\")\n",
    "            print(f\"  Most frequent value: {top_value}\")\n",
    "            print(f\"  Count: {top_value_count}/{n_rows} ({proportion:.1%})\")\n",
    "            print(f\"  Unique values: {X_train[col].nunique(dropna=False)}\")\n",
    "            print(\"-\" * 50)\n",
    "\n",
    "check_dominant_columns(X_train, threshold=0.8)"
   ]
  },
  {
   "cell_type": "code",
   "execution_count": 31,
   "metadata": {},
   "outputs": [],
   "source": [
    "categorical_columns = [\"ICD_10\", \n",
    "                        \"PRIOR_DX\", \n",
    "                        \"RACE\",\n",
    "                        \"RADIATION_THERAPY\", \n",
    "                        \"IN_PANCANPATHWAYS_FREEZE\", \n",
    "                        \"GENETIC_ANCESTRY_LABEL\"] #FIXME: do further research on what ICD_10 and ICD_O_3_SITE are\n",
    "\n",
    "# # Fill numerical NaNs with median\n",
    "# numerical_df = X_train.select_dtypes(include=['number'])\n",
    "# numerical_df = numerical_df.drop(columns=['OS_MONTHS', 'DSS_MONTHS', 'DFS_MONTHS', 'PFS_MONTHS'])\n",
    "# numerical_df = numerical_df.fillna(numerical_df.median())\n",
    "\n",
    "# # fill catagorical columns with mode\n",
    "# categorical_df = X_train[categorical_columns]\n",
    "# categorical_df = categorical_df.fillna(categorical_df.mode())\n",
    "\n",
    "\n",
    "# # One-Hot Encode categorical columns (drop first to avoid redundancy)\n",
    "# categorical_df = pd.get_dummies(categorical_df, drop_first=True, dtype=float)\n",
    "\n"
   ]
  },
  {
   "cell_type": "code",
   "execution_count": 32,
   "metadata": {},
   "outputs": [],
   "source": [
    "# --- Numerical ---\n",
    "numerical_df = X_train.select_dtypes(include=['number']).copy()\n",
    "numerical_df = numerical_df.drop(columns=['OS_MONTHS', 'DSS_MONTHS', 'DFS_MONTHS', 'PFS_MONTHS'], errors=\"ignore\")\n",
    "\n",
    "# Save medians for test-time\n",
    "num_medians = numerical_df.median()\n",
    "numerical_df = numerical_df.fillna(num_medians)\n",
    "\n",
    "# --- Categorical ---\n",
    "categorical_df = X_train[categorical_columns].copy()\n",
    "\n",
    "# Save modes for test-time\n",
    "cat_modes = categorical_df.mode().iloc[0]   # mode() returns a DataFrame, take first row\n",
    "categorical_df = categorical_df.fillna(cat_modes)\n",
    "\n",
    "# One-Hot Encode (drop first to avoid redundancy)\n",
    "categorical_df = pd.get_dummies(categorical_df, drop_first=True, dtype=float)\n",
    "\n",
    "X_train = pd.concat([numerical_df, categorical_df], axis=1)\n"
   ]
  },
  {
   "cell_type": "code",
   "execution_count": null,
   "metadata": {},
   "outputs": [],
   "source": [
    "\n",
    "\n",
    "numerical_test = X_test.select_dtypes(include=['number']).copy()\n",
    "numerical_test = numerical_test.fillna(num_medians)  # <- use train medians\n",
    "\n",
    "categorical_test = X_test[categorical_columns].copy()\n",
    "categorical_test = categorical_test.fillna(cat_modes)  # <- use train modes\n",
    "categorical_test = pd.get_dummies(categorical_test, drop_first=True, dtype=float)\n",
    "\n",
    "# Align test with training columns\n",
    "categorical_test = categorical_test.reindex(columns=categorical_df.columns, fill_value=0)\n",
    "\n",
    "\n",
    "\n",
    "# Combine back\n",
    "X_test = pd.concat([numerical_test, categorical_test], axis=1)\n",
    "\n",
    "# X_test, y_train, y_test need to be preprocessed the same way as X_train\n",
    "X_test = X_test[X_train.columns]\n",
    "\n",
    "\n"
   ]
  },
  {
   "cell_type": "markdown",
   "metadata": {},
   "source": [
    "Saving my split of training and testing data"
   ]
  },
  {
   "cell_type": "code",
   "execution_count": 35,
   "metadata": {},
   "outputs": [
    {
     "name": "stdout",
     "output_type": "stream",
     "text": [
      "(396, 17529) (99, 17529) (396,) (99,)\n"
     ]
    }
   ],
   "source": [
    "print(X_train.shape, X_test.shape, y_train.shape, y_test.shape)\n"
   ]
  },
  {
   "cell_type": "code",
   "execution_count": null,
   "metadata": {},
   "outputs": [
    {
     "data": {
      "text/plain": [
       "['og_preproc_data_rerun/y_test.pkl']"
      ]
     },
     "execution_count": 38,
     "metadata": {},
     "output_type": "execute_result"
    }
   ],
   "source": [
    "# X_train, X_test, y_train, y_test = train_test_split(X, labels, test_size=0.2, random_state=1, stratify=labels)\n",
    "\n",
    "# print(X_train.shape, X_test.shape, y_train.shape, y_test.shape)\n",
    "\n",
    "# joblib.dump(X_train, \"og_preproc_data_rerun/X_train.pkl\")\n",
    "# joblib.dump(X_test, \"og_preproc_data_rerun/X_test.pkl\")\n",
    "# joblib.dump(y_train, \"og_preproc_data_rerun/y_train.pkl\")\n",
    "# joblib.dump(y_test, \"og_preproc_data_rerun/y_test.pkl\")\n",
    "# # joblib.dump(X.columns, config.FEATURE_NAMES)"
   ]
  }
 ],
 "metadata": {
  "kernelspec": {
   "display_name": "Python 3",
   "language": "python",
   "name": "python3"
  },
  "language_info": {
   "codemirror_mode": {
    "name": "ipython",
    "version": 3
   },
   "file_extension": ".py",
   "mimetype": "text/x-python",
   "name": "python",
   "nbconvert_exporter": "python",
   "pygments_lexer": "ipython3",
   "version": "3.10.6"
  }
 },
 "nbformat": 4,
 "nbformat_minor": 2
}
