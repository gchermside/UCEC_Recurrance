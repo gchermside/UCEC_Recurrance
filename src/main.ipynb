{
 "cells": [
  {
   "cell_type": "code",
   "execution_count": 8,
   "id": "5a1851fe",
   "metadata": {},
   "outputs": [],
   "source": [
    "import numpy as np\n",
    "import pandas as pd\n",
    "\n",
    "from sklearn.preprocessing import StandardScaler\n",
    "from sklearn.preprocessing import OneHotEncoder, LabelEncoder\n",
    "from sklearn.preprocessing import StandardScaler\n",
    "\n",
    "from sklearn.model_selection import train_test_split\n",
    "from sklearn.model_selection import GridSearchCV, StratifiedKFold\n",
    "\n",
    "from sklearn.ensemble import RandomForestClassifier\n",
    "from sklearn.linear_model import LogisticRegression\n",
    "\n",
    "# TODO: Impliment these models\n",
    "from xgboost import XGBClassifier\n",
    "from sklearn.svm import SVC\n",
    "\n",
    "\n",
    "from sklearn.metrics import confusion_matrix\n",
    "from sklearn.metrics import roc_curve, roc_auc_score, precision_score, recall_score, f1_score\n",
    "\n",
    "from sklearn.feature_selection import SelectKBest, f_classif\n",
    "from sklearn.feature_selection import VarianceThreshold\n",
    "from sklearn.feature_selection import SelectFromModel\n",
    "\n",
    "from sklearn.pipeline import Pipeline\n",
    "\n",
    "from collections import Counter\n",
    "import matplotlib.pyplot as plt\n",
    "\n",
    "import joblib\n",
    "import preprocessing_utils as preproc"
   ]
  },
  {
   "cell_type": "code",
   "execution_count": 9,
   "id": "03bd0fb0",
   "metadata": {},
   "outputs": [],
   "source": [
    "# Loading in the mRNA and clinical data:\n",
    "clinical_df = pd.read_csv(\"../ucec_tcga_pan_can_atlas_2018\\data_clinical_patient.txt\", sep=\"\\t\", comment=\"#\", low_memory=False)\n",
    "clinical_df = clinical_df.set_index('PATIENT_ID')\n",
    "\n",
    "mrna_df = pd.read_csv(\"../ucec_tcga_pan_can_atlas_2018/data_mrna_seq_v2_rsem_zscores_ref_all_samples.txt\", sep=\"\\t\", comment=\"#\")\n",
    "\n",
    "# There are 527 patients in the mRNA and 529 patients in the clinical data\n",
    "\n",
    "# The first 2 columns of the mRNA data are labels (Hugo_Symbol then Entrez_Gene_Id). \n",
    "# 13 of the genes do not have Hugo_symbols, so for these I will you the Entrex_Gene_Id as the label.\n",
    "missing_symbols = mrna_df['Hugo_Symbol'].isnull()\n",
    "mrna_df.loc[missing_symbols, 'Hugo_Symbol'] = mrna_df.loc[missing_symbols, 'Entrez_Gene_Id'].astype(str)\n",
    "\n",
    "# There are 7 rows that have both the same Hugo_Symbol and Entrez_Gene_Id but different values for the patients.\n",
    "# I will rename these rows to have unique labels by appending -1-of-2 and -2-of-2 to the Hugo_Symbol.\n",
    "# Get value counts\n",
    "counts = mrna_df['Hugo_Symbol'].value_counts()\n",
    "\n",
    "# Generate unique labels for duplicates\n",
    "def label_duplicates(value, index):\n",
    "    if counts[value] == 1:\n",
    "        return value  # Keep unique values unchanged\n",
    "    occurrence = mrna_df.groupby('Hugo_Symbol').cumcount() + 1  # Count occurrences per group\n",
    "    return f\"{value}-{occurrence[index]}-of-{counts[value]}\"\n",
    "\n",
    "# Apply the labeling function\n",
    "mrna_df['Hugo_Symbol'] = [label_duplicates(value, idx) for idx, value in mrna_df['Hugo_Symbol'].items()]\n",
    "\n",
    "mrna_df = mrna_df.set_index('Hugo_Symbol')\n",
    "mrna_df = mrna_df.drop(columns=\"Entrez_Gene_Id\") # removing the label column before I transpose the df\n",
    "mrna_df= mrna_df.transpose() # now the patients are the index and the genes are the columns\n",
    "mrna_df.index = [id[:-3] for id in mrna_df.index] # removes extranious -01 so that the patient ids match the clinical data\n"
   ]
  },
  {
   "cell_type": "code",
   "execution_count": 10,
   "id": "6457257e",
   "metadata": {},
   "outputs": [],
   "source": [
    "labels = preproc.assign_labels(clinical_df)\n",
    "clinical_df, mrna_df, labels = preproc.drop_patients_missing_data(clinical_df, mrna_df, labels)\n",
    "clinical_cols = clinical_df.columns.tolist()\n",
    "mrna_cols = mrna_df.columns.tolist()\n"
   ]
  }
 ],
 "metadata": {
  "kernelspec": {
   "display_name": "Python 3",
   "language": "python",
   "name": "python3"
  },
  "language_info": {
   "codemirror_mode": {
    "name": "ipython",
    "version": 3
   },
   "file_extension": ".py",
   "mimetype": "text/x-python",
   "name": "python",
   "nbconvert_exporter": "python",
   "pygments_lexer": "ipython3",
   "version": "3.10.6"
  }
 },
 "nbformat": 4,
 "nbformat_minor": 5
}
