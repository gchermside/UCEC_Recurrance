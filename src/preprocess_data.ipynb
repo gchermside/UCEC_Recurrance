{
 "cells": [
  {
   "cell_type": "markdown",
   "id": "1125e27d",
   "metadata": {},
   "source": [
    "This file preprocesses mRNA and Clinical data and saves, X_train, y_train, X_test, y_test files for future use"
   ]
  },
  {
   "cell_type": "code",
   "execution_count": 1,
   "id": "816f420a",
   "metadata": {},
   "outputs": [],
   "source": [
    "import pandas as pd\n",
    "import config\n",
    "from sklearn.model_selection import train_test_split\n",
    "from sklearn.compose import ColumnTransformer\n",
    "import joblib\n",
    "\n",
    "from preprocessing_utils import load_clinical_data, load_mrna_data, generate_recurrence_labels, drop_patients_missing_data, MrnaPreprocessorWrapper, ClinicalPreprocessorWrapper"
   ]
  },
  {
   "cell_type": "code",
   "execution_count": 2,
   "id": "8831005b",
   "metadata": {},
   "outputs": [
    {
     "name": "stdout",
     "output_type": "stream",
     "text": [
      "Dropped 3024 columns with >25.0% nulls\n",
      "Dropped 0 highly uniform columns\n",
      "Dropped 0 low variance columns (<1e-05)\n",
      "dropping 3158 columns total\n",
      "dropping 3158 columns total\n",
      "dropping 3158 columns total\n"
     ]
    },
    {
     "data": {
      "text/plain": [
       "['../data/no_boot/preprocessor.pkl']"
      ]
     },
     "execution_count": 2,
     "metadata": {},
     "output_type": "execute_result"
    }
   ],
   "source": [
    "clinical_df = load_clinical_data(config.CLINICAL_DATA_PATH)\n",
    "mrna_df = load_mrna_data(config.MRNA_DATA_PATH)\n",
    "labels = generate_recurrence_labels(\n",
    "    treatment_file=config.TREATMENT_DATA_PATH,\n",
    "    status_file=config.STATUS_DATA_PATH,\n",
    "    clinical_file=config.CLINICAL_DATA_PATH,\n",
    ")\n",
    "\n",
    "clinical_df, mrna_df, labels = drop_patients_missing_data(clinical_df, mrna_df, labels)\n",
    "\n",
    "clinical_cols = clinical_df.columns.tolist()\n",
    "mrna_cols = mrna_df.columns.tolist()\n",
    "full_df = clinical_df.join(mrna_df, how=\"inner\")\n",
    "\n",
    "X_train, X_test, y_train, y_test = train_test_split(full_df, labels, test_size=0.2, random_state=config.SEED, stratify=labels)\n",
    "\n",
    "preprocessor = ColumnTransformer(\n",
    "    transformers=[\n",
    "        (\"clinical\", ClinicalPreprocessorWrapper(\n",
    "            cols_to_remove=config.CLINICAL_COLS_TO_REMOVE,\n",
    "            categorical_cols=config.CATEGORICAL_COLS,\n",
    "            max_null_frac=config.CLINICAL_MAX_NULL_FRAC,\n",
    "            uniform_thresh=config.CLINICAL_UNIFORM_THRESH\n",
    "        ), clinical_cols),\n",
    "\n",
    "        (\"mrna\", MrnaPreprocessorWrapper(\n",
    "            max_null_frac=config.MAX_NULL_FRAC,\n",
    "            uniform_thresh=config.UNIFORM_THRESHOLD,\n",
    "            corr_thresh=config.CORRELATION_THRESHOLD,\n",
    "            var_thresh=config.VARIANCE_THRESHOLD,\n",
    "            re_run_pruning=config.RE_RUN_PRUNING,\n",
    "            literature_genes=config.LITERATURE_GENES,\n",
    "            correlated_genes_path=config.CORRELATED_GENES_PATH,\n",
    "            use_stability_selection=config.USE_STABILITY_SELECTION,\n",
    "            n_boots=config.N_BOOTS,\n",
    "            fpr_alpha=config.FPR_ALPHA,\n",
    "            stability_threshold=config.STABILITY_THRESHOLD,\n",
    "            random_state=config.SEED\n",
    "        ), mrna_cols),\n",
    "    ]\n",
    ")\n",
    "\n",
    "preprocessor.set_output(transform=\"pandas\") # otherwise, output is converted to numpy array\n",
    "\n",
    "preprocessor.fit(X_train, y_train)\n",
    "\n",
    "X_train_preprocessed = pd.DataFrame(\n",
    "    preprocessor.transform(X_train),\n",
    "    index=X_train.index,\n",
    "    columns=preprocessor.get_feature_names_out()\n",
    ")\n",
    "\n",
    "X_test_preprocessed = pd.DataFrame(\n",
    "    preprocessor.transform(X_test),\n",
    "    index=X_test.index,\n",
    "    columns=preprocessor.get_feature_names_out()\n",
    ")\n",
    "\n",
    "# # --- Step 8: Save preprocessed data and labels ---\n",
    "joblib.dump(X_train_preprocessed, \"../data/no_boot/X_train.pkl\")\n",
    "joblib.dump(X_test_preprocessed, \"../data/no_boot/X_test.pkl\")\n",
    "joblib.dump(y_train, \"../data/no_boot/y_train.pkl\")\n",
    "joblib.dump(y_test, \"../data/no_boot/y_test.pkl\")\n",
    "joblib.dump(preprocessor, \"../data/no_boot/preprocessor.pkl\")  # Save preprocessor for future use\n",
    "\n"
   ]
  }
 ],
 "metadata": {
  "kernelspec": {
   "display_name": "Python 3",
   "language": "python",
   "name": "python3"
  },
  "language_info": {
   "codemirror_mode": {
    "name": "ipython",
    "version": 3
   },
   "file_extension": ".py",
   "mimetype": "text/x-python",
   "name": "python",
   "nbconvert_exporter": "python",
   "pygments_lexer": "ipython3",
   "version": "3.10.6"
  }
 },
 "nbformat": 4,
 "nbformat_minor": 5
}
