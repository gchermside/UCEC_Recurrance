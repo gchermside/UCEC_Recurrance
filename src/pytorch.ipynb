{
 "cells": [
  {
   "cell_type": "code",
   "execution_count": 1,
   "id": "91e34e24",
   "metadata": {},
   "outputs": [
    {
     "name": "stderr",
     "output_type": "stream",
     "text": [
      "100%|██████████| 26.4M/26.4M [00:03<00:00, 8.08MB/s]\n",
      "100%|██████████| 29.5k/29.5k [00:00<00:00, 356kB/s]\n",
      "100%|██████████| 4.42M/4.42M [00:01<00:00, 3.72MB/s]\n",
      "100%|██████████| 5.15k/5.15k [00:00<?, ?B/s]\n"
     ]
    }
   ],
   "source": [
    "import torch\n",
    "from torch.utils.data import Dataset\n",
    "from torchvision import datasets\n",
    "from torchvision.transforms import ToTensor\n",
    "import matplotlib.pyplot as plt\n",
    "\n",
    "\n",
    "training_data = datasets.FashionMNIST(\n",
    "    root=\"data\",\n",
    "    train=True,\n",
    "    download=True,\n",
    "    transform=ToTensor()\n",
    ")\n",
    "\n",
    "test_data = datasets.FashionMNIST(\n",
    "    root=\"data\",\n",
    "    train=False,\n",
    "    download=True,\n",
    "    transform=ToTensor()\n",
    ")\n"
   ]
  },
  {
   "cell_type": "code",
   "execution_count": 2,
   "id": "8e6d6dc0",
   "metadata": {},
   "outputs": [],
   "source": [
    "# class MultiModalNet(nn.Module):\n",
    "#     def __init__(self, clinical_dim, mrna_dim, mutation_dim, hidden_dim=128):\n",
    "#         super(MultiModalNet, self).__init__()\n",
    "        \n",
    "#         # Clinical branch (usually smaller)\n",
    "#         self.clinical_net = nn.Sequential(\n",
    "#             nn.Linear(clinical_dim, 32),\n",
    "#             nn.ReLU(),\n",
    "#             nn.Dropout(0.2),\n",
    "#             nn.Linear(32, 16),\n",
    "#             nn.ReLU()\n",
    "#         )\n",
    "        \n",
    "#         # mRNA branch (high-dimensional → reduce aggressively)\n",
    "#         self.mrna_net = nn.Sequential(\n",
    "#             nn.Linear(mrna_dim, hidden_dim),\n",
    "#             nn.ReLU(),\n",
    "#             nn.Dropout(0.3),\n",
    "#             nn.Linear(hidden_dim, 64),\n",
    "#             nn.ReLU()\n",
    "#         )\n",
    "        \n",
    "#         # Mutation branch\n",
    "#         self.mut_net = nn.Sequential(\n",
    "#             nn.Linear(mutation_dim, hidden_dim//2),\n",
    "#             nn.ReLU(),\n",
    "#             nn.Dropout(0.3),\n",
    "#             nn.Linear(hidden_dim//2, 32),\n",
    "#             nn.ReLU()\n",
    "#         )\n",
    "        \n",
    "#         # Combined branch\n",
    "#         combined_dim = 16 + 64 + 32\n",
    "#         self.classifier = nn.Sequential(\n",
    "#             nn.Linear(combined_dim, 64),\n",
    "#             nn.ReLU(),\n",
    "#             nn.Dropout(0.4),\n",
    "#             nn.Linear(64, 1),   # binary classification (e.g. recurrence yes/no)\n",
    "#             nn.Sigmoid()\n",
    "#         )\n",
    "    \n",
    "#     def forward(self, clinical_x, mrna_x, mut_x):\n",
    "#         c = self.clinical_net(clinical_x)\n",
    "#         m = self.mrna_net(mrna_x)\n",
    "#         u = self.mut_net(mut_x)\n",
    "        \n",
    "#         combined = torch.cat([c, m, u], dim=1)\n",
    "#         out = self.classifier(combined)\n",
    "#         return out\n"
   ]
  },
  {
   "cell_type": "code",
   "execution_count": 3,
   "id": "6a960439",
   "metadata": {},
   "outputs": [],
   "source": [
    "# model = MultiModalNet(clinical_dim=X_clinical.shape[1],\n",
    "#                       mrna_dim=X_mrna.shape[1],\n",
    "#                       mutation_dim=X_mut.shape[1])\n",
    "\n",
    "# criterion = nn.BCELoss()\n",
    "# optimizer = torch.optim.Adam(model.parameters(), lr=1e-3)\n",
    "\n",
    "# for epoch in range(20):\n",
    "#     model.train()\n",
    "#     optimizer.zero_grad()\n",
    "    \n",
    "#     outputs = model(clinical_batch, mrna_batch, mut_batch).squeeze()\n",
    "#     loss = criterion(outputs, labels.float())\n",
    "#     loss.backward()\n",
    "#     optimizer.step()\n",
    "    \n",
    "#     print(f\"Epoch {epoch+1}, Loss: {loss.item():.4f}\")\n"
   ]
  }
 ],
 "metadata": {
  "kernelspec": {
   "display_name": "Python 3",
   "language": "python",
   "name": "python3"
  },
  "language_info": {
   "codemirror_mode": {
    "name": "ipython",
    "version": 3
   },
   "file_extension": ".py",
   "mimetype": "text/x-python",
   "name": "python",
   "nbconvert_exporter": "python",
   "pygments_lexer": "ipython3",
   "version": "3.10.6"
  }
 },
 "nbformat": 4,
 "nbformat_minor": 5
}
