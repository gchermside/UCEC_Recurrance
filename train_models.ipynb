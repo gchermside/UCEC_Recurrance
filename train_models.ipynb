{
 "cells": [
  {
   "cell_type": "markdown",
   "metadata": {},
   "source": [
    "# UCEC Reccurance Notebook - Model Training"
   ]
  },
  {
   "cell_type": "code",
   "execution_count": 1,
   "metadata": {},
   "outputs": [],
   "source": [
    "import pandas as pd\n",
    "import numpy as np\n",
    "\n",
    "from sklearn.preprocessing import StandardScaler\n",
    "from sklearn.preprocessing import OneHotEncoder, LabelEncoder\n",
    "from sklearn.preprocessing import StandardScaler\n",
    "\n",
    "from sklearn.model_selection import train_test_split\n",
    "from sklearn.model_selection import GridSearchCV, StratifiedKFold\n",
    "\n",
    "from sklearn.ensemble import RandomForestClassifier\n",
    "from sklearn.linear_model import LogisticRegression\n",
    "\n",
    "# TODO: Impliment these models\n",
    "from xgboost import XGBClassifier\n",
    "from sklearn.svm import SVC\n",
    "\n",
    "\n",
    "from sklearn.metrics import confusion_matrix\n",
    "from sklearn.metrics import roc_curve, roc_auc_score\n",
    "\n",
    "from sklearn.feature_selection import SelectKBest, f_classif\n",
    "from sklearn.feature_selection import VarianceThreshold\n",
    "from sklearn.feature_selection import SelectFromModel\n",
    "\n",
    "from sklearn.pipeline import Pipeline\n",
    "\n",
    "from collections import Counter\n",
    "import matplotlib.pyplot as plt\n",
    "\n",
    "import joblib\n",
    "import config"
   ]
  },
  {
   "cell_type": "code",
   "execution_count": 2,
   "metadata": {},
   "outputs": [],
   "source": [
    "# Load training data using paths from config\n",
    "X_train = joblib.load(config.X_TRAIN_PATH)\n",
    "y_train = joblib.load(config.Y_TRAIN_PATH)\n",
    "\n",
    "# Ensure all column names are strings\n",
    "non_str_cols = [col for col in X_train.columns if not isinstance(col, str)]\n",
    "if non_str_cols:\n",
    "    raise TypeError(f\"Non-string column names found: {non_str_cols}\")\n"
   ]
  },
  {
   "cell_type": "code",
   "execution_count": 3,
   "metadata": {},
   "outputs": [
    {
     "name": "stdout",
     "output_type": "stream",
     "text": [
      "[]\n"
     ]
    }
   ],
   "source": [
    "variances = X_train.var(axis=0)\n",
    "constant_features = variances[variances == 0].index.tolist()\n",
    "print(constant_features)"
   ]
  },
  {
   "cell_type": "code",
   "execution_count": 7,
   "metadata": {},
   "outputs": [],
   "source": [
    "def run_random_forest_classifier():\n",
    "    # Code for training Random Forest\n",
    "    # This model is waved under random_forest_model.pkl\n",
    "    print(\"Running random forest classifier\")\n",
    "    pipeline = Pipeline([\n",
    "        ('variance_threshold', VarianceThreshold(threshold=1e-5)), \n",
    "        # ('scaler', StandardScaler()),\n",
    "        ('select', SelectKBest(score_func=f_classif)),\n",
    "        ('clf', RandomForestClassifier(random_state=config.SEED, class_weight='balanced'))\n",
    "    ])\n",
    "\n",
    "    # Define hyperparameter grid\n",
    "    param_grid = {\n",
    "        'clf__n_estimators': [50, 100],\n",
    "        'clf__max_depth': [5, 10, 15],\n",
    "        'clf__min_samples_split': [2, 4],\n",
    "        'clf__min_samples_leaf': [1, 2, 4],\n",
    "        'select__k': [20, 50, 100, 500],\n",
    "        'clf__max_features': ['sqrt', 'log2', 0.1]  # Reduce feature space per tree\n",
    "    }\n",
    "    return pipeline, param_grid\n",
    "\n",
    "\n",
    "def run_svc_with_LASSO():\n",
    "    # Define LASSO feature selector (keep threshold and C as chosen)\n",
    "    lasso_selector = SelectFromModel(\n",
    "        LogisticRegression(\n",
    "            penalty='l1', solver='saga', C=0.1, max_iter=5000\n",
    "        ),\n",
    "        threshold='mean'\n",
    "    )\n",
    "\n",
    "    # Define SVC classifier with best-found params\n",
    "    svc_clf = SVC(\n",
    "        probability=True,\n",
    "        class_weight='balanced',\n",
    "        random_state=config.SEED,\n",
    "        C=0.1,\n",
    "        kernel='rbf',\n",
    "        gamma='scale'\n",
    "    )\n",
    "\n",
    "    # Build pipeline (no grid search)\n",
    "    pipeline = Pipeline([\n",
    "        ('scaler', StandardScaler()),\n",
    "        ('feature_selection', lasso_selector),\n",
    "        ('classifier', svc_clf)\n",
    "    ])\n",
    "\n",
    "    return pipeline, None  # No hyperparameter grid since params are fixed (so that the function runs faster)\n",
    "\n",
    "\n",
    "def run_svc():\n",
    "    # Define SVC classifier\n",
    "    svc_clf = SVC(probability=True, class_weight='balanced', random_state=config.SEED)\n",
    "\n",
    "    # Build pipeline\n",
    "    pipeline = Pipeline([\n",
    "        ('variance', VarianceThreshold(threshold=0.001)),   # Remove constant features\n",
    "        ('scaler', StandardScaler()),\n",
    "        ('select', SelectKBest(score_func=f_classif, k=1000)),\n",
    "        ('classifier', svc_clf)\n",
    "    ])\n",
    "\n",
    "    # Hyperparameter grid\n",
    "    param_grid = {\n",
    "        'select__k': [20, 50, 100, 500],\n",
    "        'classifier__C': [0.1, 1, 10],\n",
    "        'classifier__kernel': ['linear', 'rbf'],\n",
    "        'classifier__gamma': ['scale', 'auto']\n",
    "    }\n",
    "\n",
    "    return pipeline, param_grid\n",
    "\n",
    "#FIXME: hasn't finished running after 87 minutes, need to remove LASSO or reduce hyperparameter grid\n",
    "# Overall best params: {'classifier__learning_rate': 0.01, 'classifier__max_depth': 3, 'classifier__n_estimators': 50, 'feature_selection__estimator__C': 0.1} \n",
    "# FIXME: Took: 859 minutes\n",
    "# 1 fits failed out of a total of 162. Not sure why.\n",
    "# right now, is predicted all 0s. Which is werid because the mean aur-roc was 0.6413, so why is it now 0,5 even on the training data?\n",
    "# ok, so now it is dramatically overfitting. \n",
    "# takes roughly 14 minutes when hyperparameters are set. \n",
    "def run_xgboost_with_LASSO(y_train):\n",
    "    # Define LASSO feature selector\n",
    "    lasso_selector = SelectFromModel(\n",
    "        LogisticRegression(penalty='l1', solver='saga', C=0.1, max_iter=5000),\n",
    "        threshold='mean'  # or use \"1e-5\" to keep more\n",
    "    )\n",
    "\n",
    "    # Define XGBoost classifier\n",
    "    xgb_clf = XGBClassifier(\n",
    "        use_label_encoder=False,\n",
    "        eval_metric='logloss',\n",
    "        random_state=config.SEED,\n",
    "        scale_pos_weight=(np.sum(y_train == 0) / np.sum(y_train == 1))  # ratio of negatives over positives\n",
    "    )\n",
    "\n",
    "    # Build pipeline\n",
    "    pipeline = Pipeline([\n",
    "        ('scaler', StandardScaler()),\n",
    "        ('feature_selection', lasso_selector),\n",
    "        ('classifier', xgb_clf)\n",
    "    ])\n",
    "\n",
    "    # Hyperparameter grid\n",
    "    # param_grid = {\n",
    "    #     'feature_selection__estimator__C': [0.01, 0.1, 1],\n",
    "    #     'classifier__n_estimators': [50, 100],\n",
    "    #     'classifier__max_depth': [3, 5, 7],\n",
    "    #     'classifier__learning_rate': [0.01, 0.1, 0.2],\n",
    "    # }\n",
    "    param_grid = {\n",
    "        'feature_selection__estimator__C': [0.1],\n",
    "        'classifier__n_estimators': [50],\n",
    "        'classifier__max_depth': [3],\n",
    "        'classifier__learning_rate': [0.01],\n",
    "    }\n",
    "    return pipeline, param_grid\n",
    "\n",
    "\n",
    "def run_xgboost(y_train):\n",
    "    # Define XGBoost classifier\n",
    "    xgb_clf = XGBClassifier(\n",
    "        use_label_encoder=False,\n",
    "        eval_metric='logloss',\n",
    "        random_state=config.SEED,\n",
    "        scale_pos_weight=(np.sum(y_train == 0) / np.sum(y_train == 1))  # balance classes\n",
    "    )\n",
    "\n",
    "    # Build pipeline (scaler + classifier)\n",
    "    pipeline = Pipeline([\n",
    "        ('scaler', StandardScaler()),\n",
    "        ('classifier', xgb_clf)\n",
    "    ])\n",
    "\n",
    "    # Define hyperparameter grid\n",
    "    param_grid = {\n",
    "        'classifier__n_estimators': [100, 200, 300],\n",
    "        'classifier__max_depth': [3, 5, 7],\n",
    "        'classifier__learning_rate': [0.01, 0.1, 0.2],\n",
    "        'classifier__subsample': [0.8, 1.0],\n",
    "        'classifier__colsample_bytree': [0.8, 1.0]\n",
    "    }\n",
    "    return pipeline, param_grid\n",
    "\n",
    "\n",
    "def run_LASSO():\n",
    "    print(\"Running Logistic Regression with LASSO\")\n",
    "\n",
    "    pipeline = Pipeline([\n",
    "        ('variance_threshold', VarianceThreshold(threshold=0.001)),\n",
    "        ('scaler', StandardScaler()),\n",
    "        ('select', SelectKBest(score_func=f_classif, k=1000)),\n",
    "        ('clf', LogisticRegression(\n",
    "            penalty='l1',\n",
    "            solver='saga',\n",
    "            class_weight='balanced',\n",
    "            random_state=config.SEED,\n",
    "            max_iter=10000,\n",
    "            verbose=1\n",
    "        ))\n",
    "    ])\n",
    "\n",
    "    param_grid = {\n",
    "        'clf__C': [0.01, 0.1, 1, 10],  # Smaller C = more sparsity\n",
    "        'select__k': [10, 20, 25, 50, 100, 500, 1000]\n",
    "\n",
    "    }\n",
    "\n",
    "    return pipeline, param_grid\n"
   ]
  },
  {
   "cell_type": "code",
   "execution_count": 5,
   "metadata": {},
   "outputs": [],
   "source": [
    "# pipeline, _ = run_svc_with_LASSO()\n",
    "\n",
    "# # Fit pipeline on training data\n",
    "# pipeline.fit(X_train, y_train)\n",
    "\n",
    "# best_model = pipeline\n"
   ]
  },
  {
   "cell_type": "code",
   "execution_count": null,
   "metadata": {},
   "outputs": [
    {
     "name": "stdout",
     "output_type": "stream",
     "text": [
      "Fitting 3 folds for each of 108 candidates, totalling 324 fits\n"
     ]
    }
   ],
   "source": [
    "# CHANGE WHICH MODEL USED HERE ########################################################\n",
    "pipeline, param_grid = run_xgboost(y_train)\n",
    "\n",
    "# Set up cross-validation\n",
    "cv = StratifiedKFold(n_splits=3, shuffle=True, random_state=config.SEED)\n",
    "\n",
    "# Grid search over pipeline\n",
    "grid_search = GridSearchCV(\n",
    "    estimator=pipeline,\n",
    "    param_grid=param_grid,\n",
    "    cv=cv,\n",
    "    scoring='roc_auc',  # Or 'f1' if recurrence class is more important\n",
    "    n_jobs=-1,\n",
    "    verbose=3\n",
    ")\n",
    "\n",
    "# Fit pipeline on training data\n",
    "grid_search.fit(X_train, y_train)\n",
    "\n",
    "best_model = grid_search.best_estimator_"
   ]
  },
  {
   "cell_type": "markdown",
   "metadata": {},
   "source": [
    "Looking at the hyperparameter tuning"
   ]
  },
  {
   "cell_type": "code",
   "execution_count": null,
   "metadata": {},
   "outputs": [
    {
     "name": "stdout",
     "output_type": "stream",
     "text": [
      "Overall best params: {'classifier__learning_rate': 0.01, 'classifier__max_depth': 3, 'classifier__n_estimators': 50, 'feature_selection__estimator__C': 0.1} \n",
      "\n",
      "Parameters: {'classifier__learning_rate': 0.01, 'classifier__max_depth': 3, 'classifier__n_estimators': 50, 'feature_selection__estimator__C': 0.1}\n",
      "Mean AUC-ROC: 0.5765\n",
      "Standard Deviation: 0.0302\n",
      "------------------------------\n"
     ]
    }
   ],
   "source": [
    "print(\"Overall best params:\", grid_search.best_params_, \"\\n\")\n",
    "\n",
    "# Retrieve the results from grid search\n",
    "cv_results = grid_search.cv_results_\n",
    "\n",
    "# Extract the mean test scores for each parameter combination\n",
    "mean_test_scores = cv_results['mean_test_score']\n",
    "\n",
    "# Extract the standard deviation of test scores for each parameter combination\n",
    "std_test_scores = cv_results['std_test_score']\n",
    "\n",
    "# Extract the parameter settings for each run\n",
    "params = cv_results['params']\n",
    "\n",
    "# Print the AUC-ROC scores for each parameter combination\n",
    "for mean, std, param in zip(mean_test_scores, std_test_scores, params):\n",
    "    print(f\"Parameters: {param}\")\n",
    "    print(f\"Mean AUC-ROC: {mean:.4f}\")\n",
    "    print(f\"Standard Deviation: {std:.4f}\")\n",
    "    print(\"-\" * 30)\n"
   ]
  },
  {
   "cell_type": "code",
   "execution_count": null,
   "metadata": {},
   "outputs": [
    {
     "data": {
      "text/plain": [
       "['models/xgboost_model.pkl']"
      ]
     },
     "execution_count": 25,
     "metadata": {},
     "output_type": "execute_result"
    }
   ],
   "source": [
    "# Save the best estimator from GridSearchCV\n",
    "# joblib.dump(best_model, XXXXXXXXXX) # change the path depending on the model"
   ]
  },
  {
   "cell_type": "markdown",
   "metadata": {},
   "source": [
    "Analyzing the prediction of the training data"
   ]
  },
  {
   "cell_type": "code",
   "execution_count": null,
   "metadata": {},
   "outputs": [
    {
     "name": "stdout",
     "output_type": "stream",
     "text": [
      "True Positives (TP): 65\n",
      "False Positives (FP): 21\n",
      "True Negatives (TN): 308\n",
      "False Negatives (FN): 2\n",
      "Precision: 0.756\n",
      "Recall: 0.970\n",
      "AUC-ROC Score: 0.9532\n"
     ]
    },
    {
     "data": {
      "image/png": "[encoded data removed]",
      "text/plain": [
       "<Figure size 600x600 with 1 Axes>"
      ]
     },
     "metadata": {},
     "output_type": "display_data"
    }
   ],
   "source": [
    "y_train_pred = best_model.predict(X_train)\n",
    "\n",
    "cm_test = confusion_matrix(y_train, y_train_pred)\n",
    "tn, fp, fn, tp = cm_test.ravel()\n",
    "print(f\"True Positives (TP): {tp}\")\n",
    "print(f\"False Positives (FP): {fp}\")\n",
    "print(f\"True Negatives (TN): {tn}\")\n",
    "print(f\"False Negatives (FN): {fn}\")\n",
    "\n",
    "# Calculate metrics\n",
    "precision = tp / (tp + fp) if (tp + fp) > 0 else 0\n",
    "recall = tp / (tp + fn) if (tp + fn) > 0 else 0\n",
    "\n",
    "print(f\"Precision: {precision:.3f}\")\n",
    "print(f\"Recall: {recall:.3f}\")\n",
    "\n",
    "# Compute the AUC-ROC score\n",
    "roc_auc = roc_auc_score(y_train, y_train_pred)\n",
    "\n",
    "# Print the AUC-ROC score\n",
    "print(f\"AUC-ROC Score: {roc_auc:.4f}\")\n",
    "\n",
    "# Compute ROC curve\n",
    "fpr, tpr, _ = roc_curve(y_train, y_train_pred)\n",
    "\n",
    "# Plot the ROC Curve\n",
    "plt.figure(figsize=(6, 6))\n",
    "plt.plot(fpr, tpr, linestyle='-', label=f'ROC Curve (AUC = {roc_auc:.2f})')\n",
    "plt.plot([0, 1], [0, 1], linestyle='--', color='gray')  # Random classifier line\n",
    "plt.xlabel(\"False Positive Rate (FPR)\")\n",
    "plt.ylabel(\"True Positive Rate (TPR)\")\n",
    "plt.title(\"ROC Curve on Training Data\")\n",
    "plt.legend()\n",
    "plt.show()"
   ]
  },
  {
   "cell_type": "markdown",
   "metadata": {},
   "source": [
    "Analyzing the performace on the training data"
   ]
  },
  {
   "cell_type": "code",
   "execution_count": null,
   "metadata": {},
   "outputs": [
    {
     "name": "stdout",
     "output_type": "stream",
     "text": [
      "True Positives (TP): 4\n",
      "False Positives (FP): 21\n",
      "True Negatives (TN): 61\n",
      "False Negatives (FN): 13\n",
      "Precision: 0.160\n",
      "Recall: 0.235\n",
      "AUC-ROC Score: 0.4896\n"
     ]
    },
    {
     "data": {
      "image/png": "[encoded data removed]",
      "text/plain": [
       "<Figure size 600x600 with 1 Axes>"
      ]
     },
     "metadata": {},
     "output_type": "display_data"
    }
   ],
   "source": [
    "X_test = joblib.load(config.X_TEST_PATH)\n",
    "y_test = joblib.load(config.Y_TEST_PATH)\n",
    "\n",
    "y_test_pred = best_model.predict(X_test)\n",
    "\n",
    "cm_test = confusion_matrix(y_test, y_test_pred)\n",
    "tn, fp, fn, tp = cm_test.ravel()\n",
    "print(f\"True Positives (TP): {tp}\")\n",
    "print(f\"False Positives (FP): {fp}\")\n",
    "print(f\"True Negatives (TN): {tn}\")\n",
    "print(f\"False Negatives (FN): {fn}\")\n",
    "\n",
    "# Calculate metrics\n",
    "precision = tp / (tp + fp) if (tp + fp) > 0 else 0\n",
    "recall = tp / (tp + fn) if (tp + fn) > 0 else 0\n",
    "\n",
    "print(f\"Precision: {precision:.3f}\")\n",
    "print(f\"Recall: {recall:.3f}\")\n",
    "\n",
    "# Compute the AUC-ROC score\n",
    "roc_auc = roc_auc_score(y_test, y_test_pred)\n",
    "\n",
    "# Print the AUC-ROC score\n",
    "print(f\"AUC-ROC Score: {roc_auc:.4f}\")\n",
    "\n",
    "# Compute ROC curve\n",
    "fpr, tpr, _ = roc_curve(y_test, y_test_pred)\n",
    "\n",
    "# Plot the ROC Curve\n",
    "plt.figure(figsize=(6, 6))\n",
    "plt.plot(fpr, tpr, linestyle='-', label=f'ROC Curve (AUC = {roc_auc:.2f})')\n",
    "plt.plot([0, 1], [0, 1], linestyle='--', color='gray')  # Random classifier line\n",
    "plt.xlabel(\"False Positive Rate (FPR)\")\n",
    "plt.ylabel(\"True Positive Rate (TPR)\")\n",
    "plt.title(\"ROC Curve on Testing Data\")\n",
    "plt.legend()\n",
    "plt.show()"
   ]
  },
  {
   "cell_type": "code",
   "execution_count": null,
   "metadata": {},
   "outputs": [],
   "source": [
    "# RETIRED MODELS (ie. better models have been found) ######################################################### \n",
    "\n",
    "def run_l1_ratio_logistic_regression():\n",
    "    print(\"Running Logistic Regression with l1_ratio (Elastic Net)\")\n",
    "\n",
    "    pipeline = Pipeline([\n",
    "        ('variance_threshold', VarianceThreshold(threshold=0.001)),\n",
    "        ('scaler', StandardScaler()),\n",
    "        ('select', SelectKBest(score_func=f_classif, k=1000)),\n",
    "        ('clf', LogisticRegression(\n",
    "            penalty='elasticnet',\n",
    "            solver='saga',\n",
    "            class_weight='balanced',\n",
    "            random_state=config.SEED,\n",
    "            max_iter=10000,\n",
    "            verbose=1\n",
    "        ))\n",
    "    ])\n",
    "\n",
    "    param_grid = {\n",
    "        'clf__C': [0.01, 0.1, 1, 10],  # Smaller C = more sparsity\n",
    "        'clf__l1_ratio': [0.1, 0.3, 0.5, 0.7, 0.9, 1.0],  # Mix between L1 and L2\n",
    "        'select__k': [10, 20, 25, 50, 100, 500, 1000]\n",
    "    }\n",
    "\n",
    "    return pipeline, param_grid\n",
    "\n",
    "\n",
    "def run_logistic_regression():\n",
    "    # Define the pipeline with Logistic Regression\n",
    "    # Saved under logistic_regression_model.pkl\n",
    "    print(\"Running Logistic Regression\")\n",
    "    pipeline = Pipeline([\n",
    "        ('variance_threshold', VarianceThreshold(threshold=0.001)), \n",
    "        ('scaler', StandardScaler()),\n",
    "        ('select', SelectKBest(score_func=f_classif, k=1000)),\n",
    "        ('clf', LogisticRegression(class_weight='balanced', random_state=config.SEED))\n",
    "    ])\n",
    "\n",
    "    # define hyperparameter grid for logistic regression\n",
    "    param_grid = {\n",
    "        'clf__C': [0.01, 0.1, 1, 10, 100],\n",
    "        'select__k': [50, 100, 500, 1000]\n",
    "    }\n",
    "    return pipeline, param_grid\n",
    "\n"
   ]
  }
 ],
 "metadata": {
  "kernelspec": {
   "display_name": "Python 3",
   "language": "python",
   "name": "python3"
  },
  "language_info": {
   "codemirror_mode": {
    "name": "ipython",
    "version": 3
   },
   "file_extension": ".py",
   "mimetype": "text/x-python",
   "name": "python",
   "nbconvert_exporter": "python",
   "pygments_lexer": "ipython3",
   "version": "3.10.6"
  }
 },
 "nbformat": 4,
 "nbformat_minor": 2
}
